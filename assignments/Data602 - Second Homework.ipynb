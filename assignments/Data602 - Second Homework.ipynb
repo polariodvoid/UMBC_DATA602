{
 "cells": [
  {
   "cell_type": "markdown",
   "metadata": {},
   "source": [
    "# Overview \n",
    "\n",
    "In this project you will be applying the skills you have learned in the class so far. More specifically, you will be asked to apply an clustering algorithm to a dataset of your own choice.\n",
    "\n",
    "As you are choosing your data set, make sure that you think about the following important items:\n",
    "\n",
    "1. What is the business problem you are trying to solve? In one or two sentences explain the problem you are trying to solve. Make sure that this problem is specific enough! For example, if you are working with baseball MLB data: \n",
    "\n",
    "    - __Bad Problem Statement:__ Understanding baseball players.\n",
    "\n",
    "    - __Better Problem Statement:__ From demographic info and statistics of MLB batters, can we detect hidden groups that would allow an MLB team to diversify their roster and cancel the contracts of players already redundant?\n",
    "\n",
    "2. What is the data available to solve this business problem? Why do you think that this dataset can answer the problem at hand? Have you made enough research on the problem and the dataset?\n",
    "\n",
    "3. Double check the source of the dataset. Make sure that you have done enough data exploration so there are not wrong entries, lots of duplicates, mysterious columns, nonsense statistics, etc. Don't get unpleasantly surprised after you have already invested 3 weeks in modeling. Invest in exploration of your data in the beginning of the project. Make sure that you didn't set yourself up for the [garbage in garbage out](https://en.wikipedia.org/wiki/Garbage_in,_garbage_out) problem \n",
    "\n",
    "4. Prepare your data and make sure that you have created interesting and insightful new features that will improve the machine learning algorithm's performance. (Check [Feature Engineering](https://en.wikipedia.org/wiki/Feature_engineering))\n",
    "\n",
    "5. Decide which clustering algorithm you would like to use. Make sure to choose this algorithm because it is the best fit for this project but not because it sounds like the fanciest algorithm (e.g [KMeans](https://scikit-learn.org/stable/modules/generated/sklearn.cluster.KMeans.html) if you want to use [DBSCAN](https://scikit-learn.org/stable/modules/generated/sklearn.cluster.DBSCAN.html#sklearn.cluster.DBSCAN) then, for example,you should know what the `epsilon` parameter is and why DBSCAN is preferable to KMeans in your problem.) What is the metric you will be focusing on to measure this algorithm's performance?(e.g. [silhouette_score](https://scikit-learn.org/stable/modules/generated/sklearn.metrics.silhouette_score.html)) How can you communicate this technical metric with your business partners?\n",
    "\n",
    "6. Suppose you settled on a particular clustering with a certain number of clusters. Now go back and explain what these clusters correspond with in terms of business metrics. You can create plots and visualizations to support your findings.\n",
    "\n",
    "7. Finally, summarize your findings and the limitations of your findings in a conclusion. Also mention how you would proceed if you had more time and resources on this project. \n",
    "\n",
    "# Deliverables\n",
    "\n",
    "- A Jupyter Notebook (I will refer it as `technical notebook` or `report`). This notebook should be in a Github Repo with a ReadMe. As previous homeworks, you will be submitting the link of this notebook.\n",
    "\n",
    "- This time I will not be grading the ReadMe. I assume that you have learned how to submit a good project repo with a good ReadMe in your previous projects. Please practice these learned skills.\n",
    "\n",
    "\n",
    "# Deadlines\n",
    "\n",
    "Submit the completed deliverable by November 15th at 11:59 PM. Use the link below for the submissions.\n",
    "\n",
    "[Google Form Submission Link](https://forms.gle/trvrXd2ZrynJW7EX6)\n",
    "\n",
    "\n",
    "# Resources\n",
    "\n",
    "[A Customer Segmentation Example](https://www.mktr.ai/behavioral-customer-segmentation-in-r/)\n",
    "\n",
    "[Machine Learning Process Check-list](https://docs.google.com/spreadsheets/d/1y4EdxeAliOQw9CDHx0_brjmk-LUb3gfX52zLGSqLg_g/edit#gid=0)"
   ]
  }
 ],
 "metadata": {
  "kernelspec": {
   "display_name": "Python 3",
   "language": "python",
   "name": "python3"
  },
  "language_info": {
   "codemirror_mode": {
    "name": "ipython",
    "version": 3
   },
   "file_extension": ".py",
   "mimetype": "text/x-python",
   "name": "python",
   "nbconvert_exporter": "python",
   "pygments_lexer": "ipython3",
   "version": "3.8.3"
  },
  "toc": {
   "base_numbering": 1,
   "nav_menu": {},
   "number_sections": true,
   "sideBar": true,
   "skip_h1_title": false,
   "title_cell": "Table of Contents",
   "title_sidebar": "Contents",
   "toc_cell": false,
   "toc_position": {},
   "toc_section_display": true,
   "toc_window_display": false
  }
 },
 "nbformat": 4,
 "nbformat_minor": 4
}
