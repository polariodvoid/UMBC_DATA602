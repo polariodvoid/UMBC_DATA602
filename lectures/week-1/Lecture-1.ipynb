{
 "cells": [
  {
   "cell_type": "markdown",
   "metadata": {
    "slideshow": {
     "slide_type": "slide"
    }
   },
   "source": [
    "# Welcome to Data 602: Introduction to Data Analysis and Machine Learning!\n",
    "\n",
    "## Today's Agenda:\n",
    "\n",
    "- Accessibillity\n",
    "\n",
    "- Let's get to know each other more: Ice Breaker\n",
    "\n",
    "- Set some ground rules especially for this new environment\n",
    "\n",
    "- Assignments and homeworks"
   ]
  },
  {
   "cell_type": "markdown",
   "metadata": {
    "slideshow": {
     "slide_type": "slide"
    }
   },
   "source": [
    "## Accessibility\n",
    "\n",
    "- Remote setting might create challenges and barriers for some of you.\n",
    "\n",
    "    &#9633; If this is the case reach out to me at mguner@umbc.edu\n",
    "    \n",
    "    &#9633; or SDC (Student Disability Center) from disAbility@umbc.edu or (410) 455-2459."
   ]
  },
  {
   "cell_type": "markdown",
   "metadata": {
    "slideshow": {
     "slide_type": "subslide"
    }
   },
   "source": [
    "Some of the concerns might be but not limited to:\n",
    "\n",
    "- Internet speed\n",
    "\n",
    "- Not having available space\n",
    "\n",
    "- If using video/audio is not available to you\n",
    "\n",
    "- We will have in-class surveys, quizzes etc. if you need some accommodation \n",
    "\n",
    "- In this class, I am planning to have some group work\n"
   ]
  },
  {
   "cell_type": "markdown",
   "metadata": {
    "slideshow": {
     "slide_type": "slide"
    }
   },
   "source": [
    "## Ice Breaker:\n",
    "\n",
    "- Introduce yourself and tell us a funny/interesting thing about yourself!\n",
    "\n",
    "     - I go first :)"
   ]
  },
  {
   "cell_type": "markdown",
   "metadata": {
    "slideshow": {
     "slide_type": "slide"
    }
   },
   "source": [
    "## Let me know you more!\n",
    "\n",
    "- Take the following survey:\n",
    "\n",
    "[Data Science Toolkit](https://forms.gle/qRMUWC6G75SH4LWVA)"
   ]
  },
  {
   "cell_type": "markdown",
   "metadata": {
    "slideshow": {
     "slide_type": "slide"
    }
   },
   "source": [
    "## Ground Rules for Remote Setting\n",
    "\n",
    "- Be Kind \n",
    "\n",
    "- Be Inclusive\n",
    "\n",
    "- Be Constructive\n",
    "\n",
    "- Be Active\n",
    "\n",
    "- Be Professional\n",
    "\n"
   ]
  },
  {
   "cell_type": "markdown",
   "metadata": {
    "slideshow": {
     "slide_type": "slide"
    }
   },
   "source": [
    "## Course Logistics\n",
    "\n",
    "- Lectures will be in two parts:\n",
    "\n",
    "    - 4:30 - 5:30 \n",
    "    - Break 15 mins\n",
    "    - 5:45 - 7:00\n",
    "    "
   ]
  },
  {
   "cell_type": "markdown",
   "metadata": {
    "slideshow": {
     "slide_type": "subslide"
    }
   },
   "source": [
    "## During the Lectures\n",
    "\n",
    "- Please mute yourself if someone else is speaking!\n",
    "\n",
    "- If you have a question please ask them when I get the questions.\n",
    "\n",
    "- Please use the chat for only class-relevant discussions (i.e. Please don't write distracting side stories in the chat.)\n",
    "\n",
    "- Lecture materials (slides, notebooks, recordings will be shared with you after the lectures)\n",
    "\n",
    "- Let me know immediately if:\n",
    "    \n",
    "    - You cannot hear me,\n",
    "    - You cannot see the screen I am sharing\n",
    "    - Font size is too small to read.\n"
   ]
  },
  {
   "cell_type": "markdown",
   "metadata": {
    "slideshow": {
     "slide_type": "slide"
    }
   },
   "source": [
    "## Grading\n",
    "\n",
    "\n",
    "|  Assignment   |       |  Percentage     |\n",
    "| :------------- | :----------: | -----------: |\n",
    "|  Attendance/Engagement |    | 15%    |\n",
    "|  Homework  |  | 30%  |\n",
    "| Midterm Project|         | 30%        |\n",
    "| Final Project |     | 30% |       "
   ]
  },
  {
   "cell_type": "markdown",
   "metadata": {
    "slideshow": {
     "slide_type": "subslide"
    }
   },
   "source": [
    "## Attendance/Engagement\n",
    "\n",
    "What counts as being present:\n",
    "\n",
    "    - You show up at most 15 mins after class started.\n",
    "\n",
    "What counts as being engaged:\n",
    "\n",
    "    - Readings before class.\n",
    "    - Take quizzes and answer questions successfully.\n",
    "    - Answer questions, make comments, participate."
   ]
  },
  {
   "cell_type": "markdown",
   "metadata": {
    "slideshow": {
     "slide_type": "slide"
    }
   },
   "source": [
    "## Homework\n",
    "\n",
    "- 3 Mini Projects. Due Dates - Tentative topics:\n",
    "\n",
    "    - Week-4: EDA with Python and Linear Regression.\n",
    "    - Week-10: A project with supervised/unsupervised problems.\n",
    "    - Week-13: A project with deep learning models."
   ]
  },
  {
   "cell_type": "markdown",
   "metadata": {
    "slideshow": {
     "slide_type": "subslide"
    }
   },
   "source": [
    "## Homework - Deliverables\n",
    "\n",
    "- Github repo: \n",
    "    - Code (clean,modular, reproducible, etc.)\n",
    "    - ReadMe (with clear details on project goals, tools and directions)\n",
    "  \n",
    "- Blogpost\n",
    "    "
   ]
  },
  {
   "cell_type": "markdown",
   "metadata": {
    "slideshow": {
     "slide_type": "slide"
    }
   },
   "source": [
    "## Projects\n",
    "\n",
    "- Think of them as bigger homework.\n",
    "- You can build your projects on previous homework.\n",
    "- 2 projects: 1 for midterm and 1 for final.\n",
    "    - Project-I: Due Week-7\n",
    "    - Project-II: Due the last week of the classes."
   ]
  },
  {
   "cell_type": "markdown",
   "metadata": {
    "slideshow": {
     "slide_type": "subslide"
    }
   },
   "source": [
    "Projects - Deliverables\n",
    "\n",
    "- Github: Code, ReadMe, Presentation, Technical Notebook\n",
    "\n",
    "- Blogpost."
   ]
  },
  {
   "cell_type": "markdown",
   "metadata": {
    "slideshow": {
     "slide_type": "slide"
    }
   },
   "source": [
    "## Books\n",
    "\n",
    "- [ISLR](https://faculty.marshall.usc.edu/gareth-james/ISL/ISLR%20Seventh%20Printing.pdf)\n",
    "\n",
    "- [Python Machine Learning](https://www.packtpub.com/product/python-machine-learning/9781783555130)\n",
    "\n",
    "- [Hands-on Machine Learning](https://www.oreilly.com/library/view/hands-on-machine-learning/9781492032632/)\n"
   ]
  },
  {
   "cell_type": "markdown",
   "metadata": {
    "slideshow": {
     "slide_type": "subslide"
    }
   },
   "source": [
    "## Other Books Might be Helpful\n",
    "\n",
    "- [Deep Learning Book](https://www.deeplearningbook.org/)\n",
    "\n",
    "- [Pattern Recognition and Machine Learning](https://www.amazon.com/Pattern-Recognition-Learning-Information-Statistics-ebook/dp/B07CMM4TWS)\n",
    "\n",
    "- [Elements of Statistical Learning](http://www.web.stanford.edu/~hastie/ElemStatLearn/)"
   ]
  },
  {
   "cell_type": "markdown",
   "metadata": {
    "slideshow": {
     "slide_type": "slide"
    }
   },
   "source": [
    "## Tools\n",
    "\n",
    "- [umbcdatasci - slack](https://join.slack.com/t/umbcdatasci/shared_invite/zt-hd5oqoq8-I3Lu8bq79Km9c~ArmeFlwA)\n",
    "\n",
    "- [umbcdatasci #data602_fall_2020](https://umbcdatasci.slack.com/archives/C019WND8KC4)\n",
    "\n",
    "- [Jupyter Notebooks](https://jupyter.org/)\n",
    "\n",
    "- [Github](https://github.com/)\n",
    "\n",
    "- [Anaconda Individual Edition](https://www.anaconda.com/products/individual)\n",
    "\n",
    "- [Visual Studio](https://docs.microsoft.com/en-us/visualstudio/install/install-visual-studio?view=vs-2019)"
   ]
  },
  {
   "cell_type": "markdown",
   "metadata": {
    "slideshow": {
     "slide_type": "slide"
    }
   },
   "source": [
    "## Any Questions?"
   ]
  },
  {
   "cell_type": "markdown",
   "metadata": {
    "slideshow": {
     "slide_type": "slide"
    }
   },
   "source": [
    "## PART - II\n",
    "\n",
    "## What is this course about?\n",
    "\n",
    "- Machine Learning - sklearn\n",
    "\n",
    "- Deep Learning - Tensorflow"
   ]
  },
  {
   "cell_type": "markdown",
   "metadata": {
    "slideshow": {
     "slide_type": "slide"
    }
   },
   "source": [
    "## Machine Learning and Scikit-Learn\n",
    "\n",
    "- What is Machine Learning and its place in AI, data science framework\n",
    "\n",
    "- Types of problems in machine learning - supervised, unsupervised, semi-supervised, reinforcement etc.\n",
    "\n",
    "- Terminology: Algorithm, optimization, cost function, evaluation, training, parameters, hyper-parameters, over-fitting, under-fitting, bias, variance, random variables, prior, posterior etc.\n",
    "\n",
    "- Commonly used algorithms in machine learning: Lasso, trees, support vector machines, logistic regression, k-means, PCA, T-SNE, kernel-techniques, regularization techniques etc.\n",
    "\n"
   ]
  },
  {
   "cell_type": "markdown",
   "metadata": {
    "slideshow": {
     "slide_type": "slide"
    }
   },
   "source": [
    "## Deep Learning and TensorFlow\n",
    "\n",
    "- What is deep learning and why it is a big deal?\n",
    "\n",
    "- Some problems that deep learning is very powerful: Computer vision, machine translation, speech-recognition, Representation Learning, text and speech generation.\n",
    "\n",
    "- Challenges of deep learning: Vanishing gradient, Exploding gradient, computational challenges, implementation challenges etc.\n",
    "\n",
    "- Commonly used architectures in deep learning: FNN, RNN, GNN, CNN, LSTM etc.\n",
    "\n",
    "- Terminology: Neuron, networks, activation, loss, validation, learning-rate, initialization, relu, sigmoid, stochastic process, gradient descend, backpropagation, memory, gate, encoder, decoder, kernel, filter etc.\n",
    "\n"
   ]
  },
  {
   "cell_type": "markdown",
   "metadata": {
    "slideshow": {
     "slide_type": "slide"
    }
   },
   "source": [
    "\n",
    "\n",
    "<img src= \"images/AI_machine_learning.png\" width = 650/>\n"
   ]
  },
  {
   "cell_type": "markdown",
   "metadata": {
    "slideshow": {
     "slide_type": "slide"
    }
   },
   "source": [
    "[Quiz: What can AI do?](https://forms.gle/jMhseSHA1Skp5Ba79)"
   ]
  },
  {
   "cell_type": "markdown",
   "metadata": {
    "slideshow": {
     "slide_type": "notes"
    }
   },
   "source": [
    "## Readings - Discussion - Breakout Rooms\n",
    "\n",
    "[Andrew Ng - What is Machine Learning](https://www.youtube.com/watch?v=PPLop4L2eGk)\n",
    "\n",
    "[IBM - What is ML](https://www.ibm.com/cloud/learn/machine-learning)\n",
    "\n",
    "[Andrew Ng - AI is new electricity](https://www.youtube.com/watch?v=21EiKfQYZXc)\n",
    "\n"
   ]
  },
  {
   "cell_type": "markdown",
   "metadata": {
    "slideshow": {
     "slide_type": "slide"
    }
   },
   "source": [
    "\n",
    "<img src = \"images/what_is_ml.png\" width = 750 />"
   ]
  },
  {
   "cell_type": "markdown",
   "metadata": {
    "slideshow": {
     "slide_type": "slide"
    }
   },
   "source": [
    "<img src= \"images/history_of_ml.png\" width =750/>"
   ]
  },
  {
   "cell_type": "markdown",
   "metadata": {
    "slideshow": {
     "slide_type": "slide"
    }
   },
   "source": [
    "## Why now? - Discussion"
   ]
  },
  {
   "cell_type": "markdown",
   "metadata": {
    "slideshow": {
     "slide_type": "slide"
    }
   },
   "source": [
    "\n",
    "## Some examples\n",
    "\n",
    "- [Quick Draw](https://quickdraw.withgoogle.com/#)\n",
    "\n",
    "- [Another Drawing](https://magenta.tensorflow.org/assets/sketch_rnn_demo/index.html)\n",
    "\n",
    "- [Deep Fake Video](https://www.youtube.com/watch?v=ttGUiwfTYvg)\n",
    "\n",
    "- [image captioning](http://demo-visualdialog.cloudcv.org/)\n",
    "\n",
    "- [tinkering with neural networks](https://playground.tensorflow.org)"
   ]
  },
  {
   "cell_type": "markdown",
   "metadata": {
    "slideshow": {
     "slide_type": "slide"
    }
   },
   "source": [
    "## Extra Resources:\n",
    "\n",
    "[IBM - AI-ML-Deep_Learning-NN](https://www.ibm.com/cloud/blog/ai-vs-machine-learning-vs-deep-learning-vs-neural-networks)\n",
    "\n",
    "[Drawbacks of Deep Learning](https://mse238blog.stanford.edu/2018/07/tanuarya/drawbacks-of-deep-learning/)\n",
    "\n",
    "[AI-Karaoke](https://freddiemeter.withyoutube.com/score)\n",
    "\n",
    "[Google Assistant - Hair Cut - Starts 1:11](https://www.youtube.com/watch?v=D5VN56jQMWM)"
   ]
  }
 ],
 "metadata": {
  "celltoolbar": "Slideshow",
  "kernelspec": {
   "display_name": "Python [conda env:root] *",
   "language": "python",
   "name": "conda-root-py"
  },
  "language_info": {
   "codemirror_mode": {
    "name": "ipython",
    "version": 3
   },
   "file_extension": ".py",
   "mimetype": "text/x-python",
   "name": "python",
   "nbconvert_exporter": "python",
   "pygments_lexer": "ipython3",
   "version": "3.8.3"
  },
  "toc": {
   "base_numbering": 1,
   "nav_menu": {},
   "number_sections": true,
   "sideBar": true,
   "skip_h1_title": false,
   "title_cell": "Table of Contents",
   "title_sidebar": "Contents",
   "toc_cell": false,
   "toc_position": {},
   "toc_section_display": true,
   "toc_window_display": false
  }
 },
 "nbformat": 4,
 "nbformat_minor": 4
}
