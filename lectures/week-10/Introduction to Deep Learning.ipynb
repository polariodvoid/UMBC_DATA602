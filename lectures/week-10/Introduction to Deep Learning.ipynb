{
 "cells": [
  {
   "cell_type": "markdown",
   "metadata": {
    "slideshow": {
     "slide_type": "slide"
    }
   },
   "source": [
    "# Agenda\n",
    "\n",
    "- Introduction and planning\n",
    "\n",
    "- A Brief History of Neural Networks\n",
    "\n",
    "- Single neuron and terminology\n",
    "\n",
    "- Multi-Layer Neural Networks\n",
    "\n",
    "- Use Keras to fit a deep feedforward network"
   ]
  },
  {
   "cell_type": "markdown",
   "metadata": {
    "slideshow": {
     "slide_type": "slide"
    }
   },
   "source": [
    "# Introduction to Deep Learning\n",
    "\n",
    "[Let's watch!](https://www.youtube.com/watch?v=6M5VXKLf4D4&ab_channel=Simplilearn)"
   ]
  },
  {
   "cell_type": "markdown",
   "metadata": {
    "slideshow": {
     "slide_type": "slide"
    }
   },
   "source": [
    "## A Brief History of Neural Networks\n",
    "\n",
    "[This part follows Sebastian Raschka's Lecture Notes](https://github.com/rasbt/stat479-deep-learning-ss19/blob/master/L02_dl-history/L02_dl-history_slides.pdf)\n",
    "\n",
    "- McCulloch & Pitt's Neuron model (1943)\n",
    "\n",
    "- Perceptron (1957)\n",
    "\n",
    "- ADALINE (1960) (Adaptive Linear Neuron)\n",
    "\n",
    "Couldn't solve XOR problem. First \"AI Winter\""
   ]
  },
  {
   "cell_type": "markdown",
   "metadata": {
    "slideshow": {
     "slide_type": "slide"
    }
   },
   "source": [
    "<img src = \"images/XOR.png\" width = 550/>\n",
    "\n",
    "[source: Sebastian Raschka](https://github.com/rasbt/stat479-deep-learning-ss19/blob/master/L02_dl-history/L02_dl-history_slides.pdf)"
   ]
  },
  {
   "cell_type": "markdown",
   "metadata": {
    "slideshow": {
     "slide_type": "slide"
    }
   },
   "source": [
    "- MultiLayer neural networks as solution to XOR problem\n",
    "- Rumelhart and Hinton (1986) Backpropagation\n",
    "- Handwritten zip code recognition (origin of CNN's) (1989)\n",
    "- LSTM - Long short-term memory (1997)"
   ]
  },
  {
   "cell_type": "markdown",
   "metadata": {
    "slideshow": {
     "slide_type": "slide"
    }
   },
   "source": [
    "- Second \"AI Winter\" 1990 - 2000\n",
    "\n",
    "- More popular algorithms\n",
    "\n",
    "- Computational challenges"
   ]
  },
  {
   "cell_type": "markdown",
   "metadata": {
    "slideshow": {
     "slide_type": "slide"
    }
   },
   "source": [
    "## Why Now ?\n",
    "\n",
    "- Big Data\n",
    "\n",
    "- Computational power - GPU - parallelization\n",
    "\n",
    "- Open source software - TensorFlow - Datasets \n"
   ]
  },
  {
   "cell_type": "markdown",
   "metadata": {
    "slideshow": {
     "slide_type": "slide"
    }
   },
   "source": [
    "<img src = \"images/deep_learning_scale.png\" width = 750>\n",
    "\n",
    "[source: Andrew Ng](https://www.youtube.com/watch?v=n1l-9lIMW7E&list=PLkDaE6sCZn6Ec-XTbcX1uRg2_u4xOEky0&index=2&ab_channel=Deeplearning.ai)\n"
   ]
  },
  {
   "cell_type": "markdown",
   "metadata": {
    "slideshow": {
     "slide_type": "slide"
    }
   },
   "source": [
    "## Tools For Deep Learning\n",
    "\n",
    "- [TensorFlow](https://www.tensorflow.org/)\n",
    "\n",
    "- [Keras](https://keras.io/about/)\n",
    "\n",
    "- [PyTorch](https://pytorch.org/)"
   ]
  },
  {
   "cell_type": "markdown",
   "metadata": {
    "slideshow": {
     "slide_type": "slide"
    }
   },
   "source": [
    "# Neural Networks "
   ]
  },
  {
   "cell_type": "markdown",
   "metadata": {
    "slideshow": {
     "slide_type": "slide"
    }
   },
   "source": [
    "<img src = \"images/housing_single_neuron.png\" width = 750>\n",
    "\n",
    "[source: Andrew Ng](https://www.youtube.com/watch?v=n1l-9lIMW7E&list=PLkDaE6sCZn6Ec-XTbcX1uRg2_u4xOEky0&index=2&ab_channel=Deeplearning.ai)\n"
   ]
  },
  {
   "cell_type": "markdown",
   "metadata": {
    "slideshow": {
     "slide_type": "slide"
    }
   },
   "source": [
    "<img src = \"images/single_neuron.png\" width = 850>\n",
    "\n",
    "source: Python machine learning, 3rd edition"
   ]
  },
  {
   "cell_type": "markdown",
   "metadata": {
    "slideshow": {
     "slide_type": "slide"
    }
   },
   "source": [
    "__Some other commonly used activation functions__\n",
    "\n",
    "[p18 - p19](http://introtodeeplearning.com/slides/6S191_MIT_DeepLearning_L1.pdf)"
   ]
  },
  {
   "cell_type": "markdown",
   "metadata": {
    "slideshow": {
     "slide_type": "slide"
    }
   },
   "source": [
    "__Multi-Layer Neural Networks__"
   ]
  },
  {
   "cell_type": "markdown",
   "metadata": {
    "slideshow": {
     "slide_type": "slide"
    }
   },
   "source": [
    "<img src = \"images/housing_price.png\" width = 750>\n",
    "\n",
    "[source: Andrew Ng](https://www.youtube.com/watch?v=n1l-9lIMW7E&list=PLkDaE6sCZn6Ec-XTbcX1uRg2_u4xOEky0&index=2&ab_channel=Deeplearning.ai)\n"
   ]
  },
  {
   "cell_type": "markdown",
   "metadata": {
    "slideshow": {
     "slide_type": "slide"
    }
   },
   "source": [
    "<img src = \"images/housing_multi_layer.png\" width = 850>\n",
    "\n",
    "[source: Andrew Ng](https://www.youtube.com/watch?v=n1l-9lIMW7E&list=PLkDaE6sCZn6Ec-XTbcX1uRg2_u4xOEky0&index=2&ab_channel=Deeplearning.ai)\n"
   ]
  },
  {
   "cell_type": "markdown",
   "metadata": {
    "slideshow": {
     "slide_type": "slide"
    }
   },
   "source": [
    "<img src = \"images/multilayer_perceptron.png\" width = 950>\n",
    "\n",
    "source: Python machine learning, 3rd edition"
   ]
  },
  {
   "cell_type": "markdown",
   "metadata": {
    "slideshow": {
     "slide_type": "slide"
    }
   },
   "source": [
    "__Loss Functions__\n",
    "\n",
    "[p45 - p47](http://introtodeeplearning.com/slides/6S191_MIT_DeepLearning_L1.pdf)"
   ]
  },
  {
   "cell_type": "markdown",
   "metadata": {
    "slideshow": {
     "slide_type": "slide"
    }
   },
   "source": [
    "## Gradient Descent\n",
    "\n",
    "[Let's Watch Andrew Ng](https://www.youtube.com/watch?v=uJryes5Vk1o&t=437s&ab_channel=Deeplearning.ai)\n",
    "\n",
    "[Gradient Descent Code](https://colab.research.google.com/drive/1AJRaGeqgTosVNWjinYPahB1RHGAOwIh-?usp=sharing)"
   ]
  },
  {
   "cell_type": "markdown",
   "metadata": {
    "slideshow": {
     "slide_type": "slide"
    }
   },
   "source": [
    "## Neural Networks in Action\n",
    "\n",
    "[TensorFlow Playground](https://playground.tensorflow.org/#activation=sigmoid&batchSize=10&dataset=gauss&regDataset=reg-plane&learningRate=0.03&regularizationRate=0&noise=0&networkShape=1&seed=0.88216&showTestData=true&discretize=false&percTrainData=50&x=true&y=true&xTimesY=false&xSquared=false&ySquared=false&cosX=false&sinX=false&cosY=false&sinY=false&collectStats=false&problem=classification&initZero=false&hideText=false&problem_hide=false&batchSize_hide=false&percTrainData_hide=false&numHiddenLayers_hide=false&playButton_hide=false&learningRate_hide=false&regularizationRate_hide=true&regularization_hide=true)"
   ]
  },
  {
   "cell_type": "markdown",
   "metadata": {
    "slideshow": {
     "slide_type": "slide"
    }
   },
   "source": [
    "[Our first Keras Model](https://www.tensorflow.org/tutorials/keras/classification)"
   ]
  },
  {
   "cell_type": "markdown",
   "metadata": {
    "slideshow": {
     "slide_type": "slide"
    }
   },
   "source": [
    "# Resources\n",
    "\n",
    "[A few useful things to know about ML](https://deeplearning.lipingyang.org/wp-content/uploads/2017/01/Domingos_2012_-A_few_useful_things2know_about_ML.pdf)\n",
    "\n",
    "[MIT - Introduction to Deep Learning](https://www.youtube.com/watch?v=njKP3FqW3Sk&ab_channel=AlexanderAmini)\n",
    "\n",
    "[CANNYA - Video Dialogue Replacement](https://www.cannyai.com/)\n",
    "\n",
    "[TensorFlow vs PyTorch](https://builtin.com/data-science/pytorch-vs-tensorflow)\n",
    "\n",
    "[3B1Brown - Gradient Descent](https://www.youtube.com/watch?v=IHZwWFHWa-w&ab_channel=3Blue1Brown)\n",
    "\n",
    "[Gradient Descent Demo](https://yihui.org/animation/example/grad-desc/)\n",
    "\n",
    "[Keras Loss Functions](https://keras.io/api/losses/)\n",
    "\n",
    "[A basic Keras tutorial](https://www.tensorflow.org/tutorials/keras/classification)"
   ]
  },
  {
   "cell_type": "markdown",
   "metadata": {
    "slideshow": {
     "slide_type": "slide"
    }
   },
   "source": [
    "# Credits\n",
    "\n",
    "[Sebastian Raschka - UW-Madison - Stat 479](http://pages.stat.wisc.edu/~sraschka/teaching/stat479-ss2019/#calendar)\n",
    "\n",
    "[MIT- 6.S191 - Deep Learning](https://www.youtube.com/watch?v=njKP3FqW3Sk&ab_channel=AlexanderAmini)"
   ]
  }
 ],
 "metadata": {
  "celltoolbar": "Slideshow",
  "kernelspec": {
   "display_name": "Python 3",
   "language": "python",
   "name": "python3"
  },
  "language_info": {
   "codemirror_mode": {
    "name": "ipython",
    "version": 3
   },
   "file_extension": ".py",
   "mimetype": "text/x-python",
   "name": "python",
   "nbconvert_exporter": "python",
   "pygments_lexer": "ipython3",
   "version": "3.8.3"
  },
  "toc": {
   "base_numbering": 1,
   "nav_menu": {},
   "number_sections": true,
   "sideBar": true,
   "skip_h1_title": false,
   "title_cell": "Table of Contents",
   "title_sidebar": "Contents",
   "toc_cell": false,
   "toc_position": {},
   "toc_section_display": true,
   "toc_window_display": false
  }
 },
 "nbformat": 4,
 "nbformat_minor": 4
}
