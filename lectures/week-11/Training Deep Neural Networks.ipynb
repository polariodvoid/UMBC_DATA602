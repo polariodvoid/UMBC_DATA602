{
 "cells": [
  {
   "cell_type": "markdown",
   "metadata": {},
   "source": [
    "# Training Deep Neural Nets\n",
    "\n",
    "\n",
    "This week we have see basics of deep neural networks and the next week we will see more in depth how to train a deep neural networks.\n",
    "\n",
    "Review of week-10\n",
    "\n",
    "[Notation](https://www.youtube.com/watch?v=fXOsFF95ifk&list=PLkDaE6sCZn6Ec-XTbcX1uRg2_u4xOEky0&index=25&ab_channel=Deeplearning.ai)\n",
    "\n",
    "[Terminology: Input Layer-Hidden Layer - Output Layer](https://www.youtube.com/watch?v=CcRkHl75Z-Y&list=PLkDaE6sCZn6Ec-XTbcX1uRg2_u4xOEky0&index=26&ab_channel=Deeplearning.ai)\n",
    "\n",
    "[Calculating the Output](https://www.youtube.com/watch?v=rMOdrD61IoU&list=PLkDaE6sCZn6Ec-XTbcX1uRg2_u4xOEky0&index=27&ab_channel=Deeplearning.ai)\n",
    "\n",
    "Prep for week-11\n",
    "\n",
    "[Activation Functions](https://www.youtube.com/watch?v=Xvg00QnyaIY&list=PLkDaE6sCZn6Ec-XTbcX1uRg2_u4xOEky0&index=30&ab_channel=Deeplearning.ai)\n",
    "\n",
    "[Why do We Use Non-linear Activation Functions?](https://www.youtube.com/watch?v=NkOv_k7r6no&list=PLkDaE6sCZn6Ec-XTbcX1uRg2_u4xOEky0&index=31&ab_channel=Deeplearning.ai)\n",
    "\n",
    "Read chapter 14 of Python Machine Learning 3rd Edition.\n",
    "\n",
    "Focus especially on using Keras API part. \n",
    "\n",
    "Note: Setting up tensorflow might be a little bit tricky. So you might want to use [google colab](https://colab.research.google.com/notebooks/intro.ipynb) if you don't want to deal with setting it up."
   ]
  }
 ],
 "metadata": {
  "kernelspec": {
   "display_name": "Python 3",
   "language": "python",
   "name": "python3"
  },
  "language_info": {
   "codemirror_mode": {
    "name": "ipython",
    "version": 3
   },
   "file_extension": ".py",
   "mimetype": "text/x-python",
   "name": "python",
   "nbconvert_exporter": "python",
   "pygments_lexer": "ipython3",
   "version": "3.8.3"
  },
  "toc": {
   "base_numbering": 1,
   "nav_menu": {},
   "number_sections": true,
   "sideBar": true,
   "skip_h1_title": false,
   "title_cell": "Table of Contents",
   "title_sidebar": "Contents",
   "toc_cell": false,
   "toc_position": {},
   "toc_section_display": true,
   "toc_window_display": false
  }
 },
 "nbformat": 4,
 "nbformat_minor": 4
}
