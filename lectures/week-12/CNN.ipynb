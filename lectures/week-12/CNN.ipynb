{
 "cells": [
  {
   "cell_type": "markdown",
   "metadata": {},
   "source": [
    "# Week-12 Reading (Watching) Material\n",
    "\n",
    "Next week we will start discussing Convolutional Neural Networks. Please watch the following videos before the lecture.\n",
    "\n",
    "[CNNs - Andrew Ng - Introduction](https://www.youtube.com/watch?v=ArPaAX_PhIs&list=PLkDaE6sCZn6Gl29AoE31iwdVwSG-KnDzF&ab_channel=Deeplearning.ai)\n",
    "\n",
    "[Edge Detection](https://www.youtube.com/watch?v=XuD4C8vJzEQ&list=PLkDaE6sCZn6Gl29AoE31iwdVwSG-KnDzF&index=2&ab_channel=Deeplearning.ai)\n",
    "\n",
    "[More on Edge Detection](https://www.youtube.com/watch?v=am36dePheDc&list=PLkDaE6sCZn6Gl29AoE31iwdVwSG-KnDzF&index=3&ab_channel=Deeplearning.ai)\n",
    "\n",
    "[Padding](https://www.youtube.com/watch?v=smHa2442Ah4&list=PLkDaE6sCZn6Gl29AoE31iwdVwSG-KnDzF&index=4&ab_channel=Deeplearning.ai)\n",
    "\n",
    "[CNN - Example](https://www.youtube.com/watch?v=3PyJA9AfwSk&list=PLkDaE6sCZn6Gl29AoE31iwdVwSG-KnDzF&index=8&ab_channel=Deeplearning.ai)\n",
    "\n",
    "[Why convolutions?](https://www.youtube.com/watch?v=ay3zYUeuyhU&list=PLkDaE6sCZn6Gl29AoE31iwdVwSG-KnDzF&index=11&ab_channel=Deeplearning.ai)\n",
    "\n",
    "\n",
    "- Reading: From Python Machine Learning by Sebastian Raschka,  Vahid Mirjalili 3rd edition Chapter 15: Classifying Images with Deep Convolutional Neural Networks.\n",
    "\n",
    "[A CNN tutorial with tensorflow](https://www.tensorflow.org/tutorials/images/cnn)"
   ]
  }
 ],
 "metadata": {
  "kernelspec": {
   "display_name": "Python 3",
   "language": "python",
   "name": "python3"
  },
  "language_info": {
   "codemirror_mode": {
    "name": "ipython",
    "version": 3
   },
   "file_extension": ".py",
   "mimetype": "text/x-python",
   "name": "python",
   "nbconvert_exporter": "python",
   "pygments_lexer": "ipython3",
   "version": "3.8.3"
  },
  "toc": {
   "base_numbering": 1,
   "nav_menu": {},
   "number_sections": true,
   "sideBar": true,
   "skip_h1_title": false,
   "title_cell": "Table of Contents",
   "title_sidebar": "Contents",
   "toc_cell": false,
   "toc_position": {},
   "toc_section_display": true,
   "toc_window_display": false
  }
 },
 "nbformat": 4,
 "nbformat_minor": 4
}
