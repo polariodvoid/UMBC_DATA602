{
 "cells": [
  {
   "cell_type": "markdown",
   "metadata": {},
   "source": [
    "# Week-3 Prep and Homework-1"
   ]
  },
  {
   "cell_type": "markdown",
   "metadata": {},
   "source": [
    "\n",
    "## Chapter-3 of Introduction to Statistical Learning: Linear Regression- Until 3.5 (p 105)\n",
    "\n",
    "As you are reading please keep these questions in your mind:\n",
    "\n",
    "***\n",
    "\n",
    "- Understand what is slope and intercept in simple linear regression.\n",
    "\n",
    "- What are the coefficient parameters?\n",
    "\n",
    "- What _the least squares_ method measures?\n",
    "\n",
    "- What is $e_i$ standing for in the context of 'advertising' dataset?\n",
    "\n",
    "- __You can skip the derivations of $\\beta_{1}, \\beta_{2}$ in your first read__\n",
    "\n",
    "- __You don't need to memorize their formula!__\n",
    "\n",
    "- How would you explain the notion of biased and unbiased estimators?\n",
    "\n",
    "- __You can skip pages 66, 67__\n",
    "\n",
    "- How do you interpret $R^{2}$ statistics?\n",
    "\n",
    "- How do you go from simple linear regression and multiple linear regression?\n",
    "\n",
    "- Can you explain why \"newspaper\" variable was \"significant\" in the simple linear regression model but not in the multiple linear regression model?\n",
    "\n",
    "- What are the some tools that helps us to choose between different models?\n",
    "\n",
    "- Explain Forward Selection.\n",
    "\n",
    "- What is interaction effect?\n",
    "\n",
    "- How do you make predictions once you estimated the coefficients $\\beta_{i}$'s?\n",
    "\n",
    "- How do you deal with qualitative data in linear models?\n",
    "\n",
    "- What is the effect of removing additive assumption on your linear model?\n",
    "\n",
    "- What is _Hierarchical principal_?\n",
    "\n",
    "- What are the potential problems you might encounter in a regression model?\n",
    "\n",
    "- How do you detect these potential problems?\n",
    "\n",
    "\n"
   ]
  },
  {
   "cell_type": "markdown",
   "metadata": {},
   "source": [
    "## The first homework details\n",
    "\n",
    "Recall that the first homework is due to week-4 lecture (09/22).Your task will be applying a linear regression model to a dataset of your choice.\n",
    "\n",
    "### Directions:\n",
    "\n",
    "- You cannot work with datasets that is explored in our textbooks or in our classes.\n",
    "\n",
    "- The Dataset should contain more than 200 observations (rows) and more than 4 columns.\n",
    "\n",
    "- Data can be relatively clean but you should be doing the preprocessing procedures on your own.\n",
    "\n",
    "- As it is explained in Hands-on Machine Learning with Scikit-Learn, Keras and TensorFlow (2nd edition) chapter-2, you should be able to explain the business goal of your project very clearly.\n",
    "\n",
    "- If you are applying a transformation to some of your features you should explain the rationale of such decisions. \n",
    "\n",
    "- You should use visualization techniques to explore the data and to support your results.\n",
    "\n",
    "- You should be able to assess the model fitness and you should do model diagnosis as it is described in ISLR 3.3.3.\n",
    "\n",
    "## Deliverables:\n",
    "\n",
    "As I mentioned in the first class, I want you to upload your project into Github and share it with me the github link. Github folder should contain three main ingredient:\n",
    "\n",
    "1. ReadMe \n",
    "\n",
    "2. Code + Notebooks\n",
    "\n",
    "3. Summary + Report.\n",
    "\n",
    "I will explain more on what I will be looking for in each of these items later in the class. \n",
    "\n",
    "Here is a good example of a very good project done by one of my previous students: [Alphonso Woodbury - Project](https://github.com/a-woodbury/A-House-with-a-View)"
   ]
  }
 ],
 "metadata": {
  "kernelspec": {
   "display_name": "Python 3",
   "language": "python",
   "name": "python3"
  },
  "language_info": {
   "codemirror_mode": {
    "name": "ipython",
    "version": 3
   },
   "file_extension": ".py",
   "mimetype": "text/x-python",
   "name": "python",
   "nbconvert_exporter": "python",
   "pygments_lexer": "ipython3",
   "version": "3.8.3"
  },
  "toc": {
   "base_numbering": 1,
   "nav_menu": {},
   "number_sections": true,
   "sideBar": true,
   "skip_h1_title": false,
   "title_cell": "Table of Contents",
   "title_sidebar": "Contents",
   "toc_cell": false,
   "toc_position": {},
   "toc_section_display": true,
   "toc_window_display": false
  }
 },
 "nbformat": 4,
 "nbformat_minor": 4
}
