{
 "cells": [
  {
   "cell_type": "markdown",
   "metadata": {
    "slideshow": {
     "slide_type": "slide"
    }
   },
   "source": [
    "# Agenda\n",
    "\n"
   ]
  },
  {
   "cell_type": "markdown",
   "metadata": {
    "slideshow": {
     "slide_type": "subslide"
    }
   },
   "source": [
    "__Part - I__\n",
    "\n",
    "\n",
    "- Bias - Variance Trade-Off Review\n",
    "\n",
    "- Cross Validation\n",
    "\n",
    "    - Validation Set\n",
    "    \n",
    "    - Leave one out CV\n",
    "    \n",
    "    - K-fold CV       \n"
   ]
  },
  {
   "cell_type": "markdown",
   "metadata": {
    "slideshow": {
     "slide_type": "subslide"
    }
   },
   "source": [
    "__Part - II__\n",
    "\n",
    "- Model Selection\n",
    "\n",
    "- Motivation and discussing why we need model selection\n",
    "\n",
    "- Selecting Features\n",
    "\n",
    "    - Subset Selection\n",
    "\n",
    "        - Best Subset Selection\n",
    "\n",
    "        - Forward Stepwise Selection\n",
    "        \n",
    "        - Backward Stepwise Selection"
   ]
  },
  {
   "cell_type": "markdown",
   "metadata": {
    "slideshow": {
     "slide_type": "subslide"
    }
   },
   "source": [
    "__Part - III__\n",
    "\n",
    "- Regularization\n",
    "\n",
    "    - Ridge\n",
    "    \n",
    "    - Lasso"
   ]
  },
  {
   "cell_type": "markdown",
   "metadata": {
    "slideshow": {
     "slide_type": "slide"
    }
   },
   "source": [
    "# Part-I: Cross Validation\n",
    "\n",
    "- Training Data: The data set used to train machine learning algorithm\n",
    "\n",
    "- Test Data: The data set that is unseen by the algorithm"
   ]
  },
  {
   "cell_type": "markdown",
   "metadata": {
    "slideshow": {
     "slide_type": "slide"
    }
   },
   "source": [
    "- Training Error: Error made by the algorithm computed using the training data.\n",
    "\n",
    "- Test Error: The average error that results from using a ML algorithm to predict the response on a new observation."
   ]
  },
  {
   "cell_type": "markdown",
   "metadata": {
    "slideshow": {
     "slide_type": "slide"
    }
   },
   "source": [
    "__Bias Variance Trade-Off__\n",
    "\n",
    "- Bias: How much the average prediction over different data sets differ from the actual value.\n",
    "\n",
    "- Variance: How much the predictions would change for different data sets.\n",
    "\n",
    "__Goal__\n",
    "\n",
    "- Low test error => Low variance + low bias"
   ]
  },
  {
   "cell_type": "markdown",
   "metadata": {
    "slideshow": {
     "slide_type": "slide"
    }
   },
   "source": [
    "<img src=\"https://hsto.org/files/281/108/1e9/2811081e9eda44d08f350be5a9deb564.png\" width=350, height=350> "
   ]
  },
  {
   "cell_type": "markdown",
   "metadata": {
    "slideshow": {
     "slide_type": "notes"
    }
   },
   "source": [
    " More excplicitly we say that the 'average' test error can be decompose into three pieces.\n",
    "\n",
    "<img src=\"images/bias_variance.png\" cap=\"Transformed dataset\"  width='400'/>"
   ]
  },
  {
   "cell_type": "markdown",
   "metadata": {
    "slideshow": {
     "slide_type": "slide"
    }
   },
   "source": [
    "__Why does this matter?__\n",
    "\n",
    "[__Bias - Variance Trade-Off__](http://scott.fortmann-roe.com/docs/BiasVariance.html)\n",
    "\n",
    "\n",
    "<img src=\"images/bias_variance_trade_off.png\" alt=\"Bias-Variance\" style=\"width: 750px;\"/>"
   ]
  },
  {
   "cell_type": "markdown",
   "metadata": {},
   "source": [
    "__Why does this matter - 2?__\n",
    "\n",
    "- Complex models will give low training errors but not necessarily low test errors.\n",
    "\n",
    "__Goal of ML__\n",
    "\n",
    "- Choose a model with low test error!\n",
    "\n",
    "__Question__\n",
    "\n",
    "- How can we estimate test error?"
   ]
  },
  {
   "cell_type": "markdown",
   "metadata": {
    "slideshow": {
     "slide_type": "slide"
    }
   },
   "source": [
    "<img src=\"images/train_test_error.png\" style=\"width: 750px;\"/>"
   ]
  },
  {
   "cell_type": "markdown",
   "metadata": {
    "slideshow": {
     "slide_type": "notes"
    }
   },
   "source": [
    "Source: ISLR - p31"
   ]
  },
  {
   "cell_type": "markdown",
   "metadata": {
    "slideshow": {
     "slide_type": "slide"
    }
   },
   "source": [
    "__How to estimate test error?__\n",
    "\n",
    "- With train-test split"
   ]
  },
  {
   "cell_type": "markdown",
   "metadata": {
    "slideshow": {
     "slide_type": "slide"
    }
   },
   "source": [
    "<img src=\"images/traintest.jpg\" style=\"width: 750px;\"/>"
   ]
  },
  {
   "cell_type": "markdown",
   "metadata": {
    "slideshow": {
     "slide_type": "slide"
    }
   },
   "source": [
    "## Validation Set Approach\n",
    "\n",
    "__Problem__\n",
    "\n",
    "- If we could choose one model then we can estimate the test error. \n",
    "\n",
    "- However we cannot use test data to compare different models!\n",
    "\n",
    "- Because this would lead to over-fitting to test data this time."
   ]
  },
  {
   "cell_type": "markdown",
   "metadata": {
    "slideshow": {
     "slide_type": "slide"
    }
   },
   "source": [
    "__Solution__\n",
    "\n",
    "- Set aside another random part of the data set and compare different models on this dataset.\n",
    "\n",
    "- Once we choose a good model with validation data then we can estimate the final performance of this model on test set."
   ]
  },
  {
   "cell_type": "markdown",
   "metadata": {
    "slideshow": {
     "slide_type": "slide"
    }
   },
   "source": [
    "<img src=\"images/sklearn_validation.png\" style=\"width: 750px;\"/>"
   ]
  },
  {
   "cell_type": "markdown",
   "metadata": {
    "slideshow": {
     "slide_type": "slide"
    }
   },
   "source": [
    "<img src=\"images/validation_set_approach.jpg\" style=\"width: 750px;\"/>"
   ]
  },
  {
   "cell_type": "markdown",
   "metadata": {
    "slideshow": {
     "slide_type": "notes"
    }
   },
   "source": [
    "[Source](https://www.datavedas.com/holdout-cross-validation/)"
   ]
  },
  {
   "cell_type": "markdown",
   "metadata": {
    "slideshow": {
     "slide_type": "slide"
    }
   },
   "source": [
    "__What might be the possible drawbacks of this approach?__\n",
    "\n",
    "Let's discuss"
   ]
  },
  {
   "cell_type": "code",
   "execution_count": 6,
   "metadata": {
    "hide_input": true
   },
   "outputs": [],
   "source": [
    "## Overestimate test error - because trained on few samples\n",
    "\n",
    "## high variance of the estimations -- because of corralated datasest"
   ]
  },
  {
   "cell_type": "markdown",
   "metadata": {
    "slideshow": {
     "slide_type": "slide"
    }
   },
   "source": [
    "## Leave-One-Out \n",
    "\n",
    "- Remedy to the problems of Validation Set Approach"
   ]
  },
  {
   "cell_type": "markdown",
   "metadata": {
    "slideshow": {
     "slide_type": "slide"
    }
   },
   "source": [
    "<img src=\"images/loocv.png\" style=\"width: 750px;\"/>"
   ]
  },
  {
   "cell_type": "markdown",
   "metadata": {
    "slideshow": {
     "slide_type": "notes"
    }
   },
   "source": [
    "[Image Source](https://medium.com/datadriveninvestor/k-fold-and-other-cross-validation-techniques-6c03a2563f1e)"
   ]
  },
  {
   "cell_type": "markdown",
   "metadata": {
    "slideshow": {
     "slide_type": "slide"
    }
   },
   "source": [
    "__Advantages__\n",
    "\n",
    "- Far less bias - Each time we are using almost all of the training set.\n",
    "\n",
    "- There is no randomness in the process so less variance."
   ]
  },
  {
   "cell_type": "markdown",
   "metadata": {
    "slideshow": {
     "slide_type": "slide"
    }
   },
   "source": [
    "__Disadvantages__\n",
    "\n",
    "- Computationally very expensive"
   ]
  },
  {
   "cell_type": "markdown",
   "metadata": {
    "slideshow": {
     "slide_type": "slide"
    }
   },
   "source": [
    "## K-fold Cross-Validation\n",
    "\n",
    "(Best of both worlds!!)\n",
    "\n",
    "- Split data into k-folds randomly and each fold has approximately the same size.\n",
    "\n",
    "- Each time hold one fold as validation and the rest as training. \n",
    "\n",
    "- Apply this procedure until every fold becomes a validation set once."
   ]
  },
  {
   "cell_type": "markdown",
   "metadata": {
    "slideshow": {
     "slide_type": "slide"
    }
   },
   "source": [
    "<img src=\"images/sklearn_cv.png\" style=\"width: 750px;\"/>"
   ]
  },
  {
   "cell_type": "markdown",
   "metadata": {
    "slideshow": {
     "slide_type": "slide"
    }
   },
   "source": [
    "__Advantages of k-fold CV__\n",
    "\n",
    "- Computationally manageable\n",
    "\n",
    "- Lower bias then validation set approach\n",
    "\n",
    "- Lower variance then LOOCV\n",
    "\n",
    "- Every data point is used in training k-1 times\n",
    "\n",
    "- Every data point is used as test at least once.\n",
    "\n"
   ]
  },
  {
   "cell_type": "markdown",
   "metadata": {
    "slideshow": {
     "slide_type": "slide"
    }
   },
   "source": [
    "__Disadvantages__\n",
    "\n",
    "- Sometimes even k-fold CV is very computationally expensive."
   ]
  },
  {
   "cell_type": "markdown",
   "metadata": {
    "slideshow": {
     "slide_type": "slide"
    }
   },
   "source": [
    "# Part - II: Linear Model Selection\n"
   ]
  },
  {
   "cell_type": "markdown",
   "metadata": {
    "slideshow": {
     "slide_type": "slide"
    }
   },
   "source": [
    "## Feature Selection\n",
    "\n",
    "- Model Interpretability: \n",
    "\n",
    "    - Some or many of the variables used in a multiple regression model might not be associated with the target.\n",
    "    \n",
    "    - We will see how to select relevant features (variables)\n",
    "    \n",
    "    - This will reduce the complexity of the models.\n",
    "    \n",
    "    - Increase the interpretability"
   ]
  },
  {
   "cell_type": "markdown",
   "metadata": {
    "slideshow": {
     "slide_type": "slide"
    }
   },
   "source": [
    "### Best Subset Selection\n",
    "\n",
    "<img src=\"images/best_subset.png\" style=\"width: 750px;\"/>"
   ]
  },
  {
   "cell_type": "markdown",
   "metadata": {
    "slideshow": {
     "slide_type": "notes"
    }
   },
   "source": [
    "- Can you see why do we use different metrics in 2 and 3?"
   ]
  },
  {
   "cell_type": "markdown",
   "metadata": {
    "slideshow": {
     "slide_type": "slide"
    }
   },
   "source": [
    "__Advantages__\n",
    "\n",
    "- Simple\n",
    "\n",
    "- Through\n",
    "\n",
    "- Conceptually appealing"
   ]
  },
  {
   "cell_type": "markdown",
   "metadata": {
    "slideshow": {
     "slide_type": "slide"
    }
   },
   "source": [
    "__Disadvantages__\n",
    "\n",
    "Let's discuss"
   ]
  },
  {
   "cell_type": "markdown",
   "metadata": {
    "slideshow": {
     "slide_type": "slide"
    }
   },
   "source": [
    "### Forward Stepwise feature Selection\n",
    "\n",
    "<img src=\"images/forward_stepwise.png\" style=\"width: 750px;\"/>"
   ]
  },
  {
   "cell_type": "markdown",
   "metadata": {
    "slideshow": {
     "slide_type": "slide"
    }
   },
   "source": [
    "__Advantages__\n",
    "\n",
    "- Clearly computationally faster than best subset selection (Can you find how many steps?)\n",
    "\n",
    "- Can be applies even in the setting where n< p\n",
    "\n",
    "__Disadvantages__\n",
    "\n",
    "- Might not find the best possible model.\n",
    "\n",
    "- Greedy approach"
   ]
  },
  {
   "cell_type": "markdown",
   "metadata": {
    "slideshow": {
     "slide_type": "slide"
    }
   },
   "source": [
    "### Backward Stepwise Feature Selection\n",
    "\n",
    "<img src=\"images/backward_stepwise.png\" style=\"width: 750px;\"/>"
   ]
  },
  {
   "cell_type": "markdown",
   "metadata": {
    "slideshow": {
     "slide_type": "slide"
    }
   },
   "source": [
    "__Advantages__\n",
    "\n",
    "- Clearly computationally faster than best subset selection (Can you find how many steps?)\n",
    "\n",
    "__Disadvantages__\n",
    "\n",
    "- Might not find the best possible model.\n",
    "\n",
    "- Greedy approach\n",
    "\n",
    "- Requires n> p"
   ]
  },
  {
   "cell_type": "markdown",
   "metadata": {
    "slideshow": {
     "slide_type": "slide"
    }
   },
   "source": [
    "## Part-III: Regularization Techniques"
   ]
  },
  {
   "cell_type": "markdown",
   "metadata": {
    "slideshow": {
     "slide_type": "slide"
    }
   },
   "source": [
    "__Linear Model__\n",
    "\n",
    "\n",
    "$$ Y = \\beta_{0} + \\beta_{1}X_1 + \\beta_{2}X_{2} + \\cdots + \\beta_{p}X_{p} + \\varepsilon $$\n",
    "\n",
    " - We train model to understand the paramaters $\\beta_{i}$ \n",
    " \n",
    " - Use linear algebra or gradient descent to find parameters to minimize:\n",
    " \n",
    " $$ J(\\beta) = \\sum\\limits_{i=0}^{n} (y_{i} - \\beta_{0} - \\beta_{1}X_{i1} - \\beta_{2}X_{i2} - \\cdots - \\beta_{p}X_{ip})^{2} $$"
   ]
  },
  {
   "cell_type": "markdown",
   "metadata": {
    "slideshow": {
     "slide_type": "slide"
    }
   },
   "source": [
    "__Ridge regularization__\n",
    "\n",
    "Instead of minimizing $J(\\beta)$ (least squares method), we will minimize:\n",
    "\n",
    "$$ J_{\\lambda}(\\beta) = J(\\beta) + \\lambda\\sum_{i=1}^{p} \\beta_{i}^{2} $$\n",
    "\n",
    "__Lasso regularization__\n",
    "\n",
    "Instead of minimizing $J(\\beta)$, we will minimize:\n",
    "\n",
    "$$ J_{\\lambda}(\\beta) = J(\\beta) + \\lambda\\sum_{i=1}^{p}| \\beta_{i} | $$"
   ]
  },
  {
   "cell_type": "markdown",
   "metadata": {
    "slideshow": {
     "slide_type": "slide"
    }
   },
   "source": [
    "- Why?\n",
    "\n",
    "    - Reduces complexity\n",
    "    \n",
    "    - Reduce the chance of ovefitting.\n",
    "    \n",
    "    - Reduces model's variance at the expense of introducing small bias\n",
    "    \n",
    "    - Increases model's interprettability.\n",
    "    \n",
    "    - Help to deal with colinearity"
   ]
  },
  {
   "cell_type": "markdown",
   "metadata": {
    "slideshow": {
     "slide_type": "slide"
    }
   },
   "source": [
    "##### Ridge:\n",
    "- Used to prevent overfitting. \n",
    "- Not very useful when we have many features.\n",
    "\n",
    "##### Lasso:   \n",
    "- Provides sparse solutions. \n",
    "- Model of choice for modelling cases where we have large number of features. \n",
    "- Sparse solution is of great computational advantage as the features with zero coefficients can simply be ignored.\n"
   ]
  },
  {
   "cell_type": "markdown",
   "metadata": {
    "slideshow": {
     "slide_type": "slide"
    }
   },
   "source": [
    "### Questions\n",
    "\n",
    "\n",
    "\n",
    "Q. Should I do normalization for Lasso or Ridge?\n",
    "\n",
    "A. Yes? Why?\n",
    "\n",
    "Q. When we know that Ridge and Lasso is better than vanilla linear regression?\n",
    "\n",
    "A. High variation in your model --> Colinearity and too many variables.\n",
    "\n",
    "Q. How do we know whether we should choose Lasso or Ridge?\n",
    "\n",
    "A. Most of the time they perform very similar but Lasso has the feature selection property, ridge doesn't have this.\n",
    "\n",
    "Q: How do we choose $\\lambda$?\n",
    "\n",
    "A. [sklearn gridsearch](https://scikit-learn.org/stable/modules/grid_search.html#grid-search) for small models or random grid search for bigger models.\n"
   ]
  },
  {
   "cell_type": "markdown",
   "metadata": {
    "slideshow": {
     "slide_type": "slide"
    }
   },
   "source": [
    "###### Play Ground (If time allows if not work on this on your own )"
   ]
  },
  {
   "cell_type": "code",
   "execution_count": 15,
   "metadata": {
    "slideshow": {
     "slide_type": "notes"
    }
   },
   "outputs": [
    {
     "data": {
      "text/html": [
       "<div>\n",
       "<style scoped>\n",
       "    .dataframe tbody tr th:only-of-type {\n",
       "        vertical-align: middle;\n",
       "    }\n",
       "\n",
       "    .dataframe tbody tr th {\n",
       "        vertical-align: top;\n",
       "    }\n",
       "\n",
       "    .dataframe thead th {\n",
       "        text-align: right;\n",
       "    }\n",
       "</style>\n",
       "<table border=\"1\" class=\"dataframe\">\n",
       "  <thead>\n",
       "    <tr style=\"text-align: right;\">\n",
       "      <th></th>\n",
       "      <th>Income</th>\n",
       "      <th>Limit</th>\n",
       "      <th>Rating</th>\n",
       "      <th>Cards</th>\n",
       "      <th>Age</th>\n",
       "      <th>Education</th>\n",
       "      <th>Gender</th>\n",
       "      <th>Student</th>\n",
       "      <th>Married</th>\n",
       "      <th>Ethnicity</th>\n",
       "      <th>Balance</th>\n",
       "    </tr>\n",
       "  </thead>\n",
       "  <tbody>\n",
       "    <tr>\n",
       "      <th>1</th>\n",
       "      <td>14.891</td>\n",
       "      <td>3606</td>\n",
       "      <td>283</td>\n",
       "      <td>2</td>\n",
       "      <td>34</td>\n",
       "      <td>11</td>\n",
       "      <td>Male</td>\n",
       "      <td>No</td>\n",
       "      <td>Yes</td>\n",
       "      <td>Caucasian</td>\n",
       "      <td>333</td>\n",
       "    </tr>\n",
       "    <tr>\n",
       "      <th>2</th>\n",
       "      <td>106.025</td>\n",
       "      <td>6645</td>\n",
       "      <td>483</td>\n",
       "      <td>3</td>\n",
       "      <td>82</td>\n",
       "      <td>15</td>\n",
       "      <td>Female</td>\n",
       "      <td>Yes</td>\n",
       "      <td>Yes</td>\n",
       "      <td>Asian</td>\n",
       "      <td>903</td>\n",
       "    </tr>\n",
       "    <tr>\n",
       "      <th>3</th>\n",
       "      <td>104.593</td>\n",
       "      <td>7075</td>\n",
       "      <td>514</td>\n",
       "      <td>4</td>\n",
       "      <td>71</td>\n",
       "      <td>11</td>\n",
       "      <td>Male</td>\n",
       "      <td>No</td>\n",
       "      <td>No</td>\n",
       "      <td>Asian</td>\n",
       "      <td>580</td>\n",
       "    </tr>\n",
       "    <tr>\n",
       "      <th>4</th>\n",
       "      <td>148.924</td>\n",
       "      <td>9504</td>\n",
       "      <td>681</td>\n",
       "      <td>3</td>\n",
       "      <td>36</td>\n",
       "      <td>11</td>\n",
       "      <td>Female</td>\n",
       "      <td>No</td>\n",
       "      <td>No</td>\n",
       "      <td>Asian</td>\n",
       "      <td>964</td>\n",
       "    </tr>\n",
       "    <tr>\n",
       "      <th>5</th>\n",
       "      <td>55.882</td>\n",
       "      <td>4897</td>\n",
       "      <td>357</td>\n",
       "      <td>2</td>\n",
       "      <td>68</td>\n",
       "      <td>16</td>\n",
       "      <td>Male</td>\n",
       "      <td>No</td>\n",
       "      <td>Yes</td>\n",
       "      <td>Caucasian</td>\n",
       "      <td>331</td>\n",
       "    </tr>\n",
       "  </tbody>\n",
       "</table>\n",
       "</div>"
      ],
      "text/plain": [
       "    Income  Limit  Rating  Cards  Age  Education  Gender Student Married  \\\n",
       "1   14.891   3606     283      2   34         11    Male      No     Yes   \n",
       "2  106.025   6645     483      3   82         15  Female     Yes     Yes   \n",
       "3  104.593   7075     514      4   71         11    Male      No      No   \n",
       "4  148.924   9504     681      3   36         11  Female      No      No   \n",
       "5   55.882   4897     357      2   68         16    Male      No     Yes   \n",
       "\n",
       "   Ethnicity  Balance  \n",
       "1  Caucasian      333  \n",
       "2      Asian      903  \n",
       "3      Asian      580  \n",
       "4      Asian      964  \n",
       "5  Caucasian      331  "
      ]
     },
     "execution_count": 15,
     "metadata": {},
     "output_type": "execute_result"
    }
   ],
   "source": [
    "## import libraries\n",
    "import pandas as pd\n",
    "import numpy as np\n",
    "import matplotlib.pyplot as plt\n",
    "\n",
    "from IPython.display import display, HTML\n",
    "\n",
    "from pandas.plotting import scatter_matrix\n",
    "\n",
    "from sklearn.linear_model import LinearRegression\n",
    "from sklearn.preprocessing import PolynomialFeatures\n",
    "from sklearn.linear_model import Lasso\n",
    "from sklearn.linear_model import Ridge\n",
    "\n",
    "from sklearn.model_selection import train_test_split\n",
    "\n",
    "from sklearn.preprocessing import StandardScaler\n",
    "\n",
    "df = pd.read_csv('data/Credit.csv', index_col = 0)\n",
    "\n",
    "df.head()"
   ]
  },
  {
   "cell_type": "code",
   "execution_count": 16,
   "metadata": {
    "slideshow": {
     "slide_type": "notes"
    }
   },
   "outputs": [
    {
     "name": "stdout",
     "output_type": "stream",
     "text": [
      "Shape of the dataset is: (400, 6)\n"
     ]
    }
   ],
   "source": [
    "df2 = df.select_dtypes(exclude='object').loc[:]\n",
    "df2.drop(columns = 'Balance', inplace = True)\n",
    "\n",
    "X = df2.values\n",
    "y = df.Balance.values.reshape(-1,1)\n",
    "\n",
    "print('Shape of the dataset is:', X.shape)"
   ]
  },
  {
   "cell_type": "code",
   "execution_count": 17,
   "metadata": {
    "slideshow": {
     "slide_type": "notes"
    }
   },
   "outputs": [
    {
     "data": {
      "image/png": "[encoded data removed]",
      "text/plain": [
       "<Figure size 432x288 with 1 Axes>"
      ]
     },
     "metadata": {
      "needs_background": "light"
     },
     "output_type": "display_data"
    }
   ],
   "source": [
    "\n",
    "def model_experiment(num_iter = 5, \n",
    "                     models = ['ols', 'ridge', 'lasso'], alpha= 10, \n",
    "                     complexity = 'simple', degree = 3):\n",
    "    \n",
    "    x_axis = np.arange(num_iter)\n",
    "    y_ols_test = []\n",
    "    y_lasso_test = []\n",
    "    y_ridge_test = []\n",
    "    sample_models = {}\n",
    "    for i in range(num_iter):\n",
    "        \n",
    "        if complexity == 'simple':\n",
    "            ## split train_test \n",
    "            X_train, X_test, y_train, y_test = train_test_split(X, y, test_size = 0.2)\n",
    "        elif complexity == 'polynomial':\n",
    "            ## Create higher order terms\n",
    "            poly = PolynomialFeatures(degree=degree)\n",
    "            Xp = poly.fit_transform(X)\n",
    "            ## test-train split\n",
    "            X_train, X_test, y_train, y_test = train_test_split(Xp, y, test_size = 0.2)\n",
    "\n",
    "\n",
    "        ## Standard scale mean = 0, variance = 1\n",
    "        sd = StandardScaler()\n",
    "\n",
    "        sd.fit(X_train)\n",
    "\n",
    "        X_train = sd.transform(X_train)\n",
    "\n",
    "        X_test = sd.transform(X_test)\n",
    "\n",
    "        ## Be careful about the leakage\n",
    "\n",
    "        ## Vanilla model\n",
    "        if 'ols' in models:\n",
    "            lr = LinearRegression()\n",
    "\n",
    "            lr.fit(X_train, y_train)\n",
    "            \n",
    "            sample_models['ols'] = lr\n",
    "\n",
    "            test_score = lr.score(X_test, y_test)\n",
    "            train_score = lr.score(X_train, y_train)\n",
    "\n",
    "            y_ols_test.append(test_score)\n",
    "\n",
    "    #       print('test score OLS is %.2f and train score is %.2f'%(test_score, train_score))\n",
    "\n",
    "        if 'ridge' in models:\n",
    "            ## Ridge in the simple setting\n",
    "            ridge = Ridge(alpha = alpha, max_iter= 10000)\n",
    "            ridge.fit(X_train, y_train)\n",
    "            sample_models['ridge'] = ridge\n",
    "            y_ridge_test.append(ridge.score(X_test, y_test))\n",
    "    #         print('test score Ridge is %.2f and train score is %.2f'%(ridge.score(X_test, y_test),\n",
    "    #                                                             ridge.score(X_train, y_train)))\n",
    "\n",
    "        if 'lasso' in models:\n",
    "            ## Lasso in the simple setting\n",
    "            lasso = Lasso(alpha = alpha, max_iter= 10000)\n",
    "\n",
    "            lasso.fit(X_train, y_train)\n",
    "            \n",
    "            sample_models['lasso'] = lasso\n",
    "            \n",
    "            y_lasso_test.append(lasso.score(X_test, y_test))\n",
    "    #       print('test score Lasso is %.2f and train score is %.2f'%(lasso.score(X_test, y_test),\n",
    "    #                                                             lasso.score(X_train, y_train)))\n",
    "\n",
    "        i+=1\n",
    "    if 'ols' in models:\n",
    "        plt.plot(y_ols_test, label = 'ols')\n",
    "    if 'ridge' in models:\n",
    "        plt.plot(y_ridge_test, label = 'ridge')\n",
    "    if 'lasso' in models:\n",
    "        plt.plot(y_lasso_test, label = 'lasso')\n",
    "    plt.ylabel('R2 test score')\n",
    "    plt.xlabel('number of iterations')\n",
    "    all_results = y_ols_test + y_lasso_test + y_ridge_test\n",
    "    plt.ylim((np.min(all_results), np.max(all_results)))\n",
    "    \n",
    "    plt.legend()\n",
    "    return sample_models\n",
    "\n",
    "trained_models = model_experiment(num_iter=30, alpha = 15,\n",
    "                                   models = ['ols', 'ridge', 'lasso'], \n",
    "                                   complexity= 'polynomial', degree = 3)\n"
   ]
  },
  {
   "cell_type": "code",
   "execution_count": 13,
   "metadata": {
    "slideshow": {
     "slide_type": "slide"
    }
   },
   "outputs": [
    {
     "name": "stdout",
     "output_type": "stream",
     "text": [
      "[[ 0.00000000e+00 -5.69693121e+01  8.12834051e+01  8.28903421e+01\n",
      "   1.19448397e+01  1.14804907e+01 -5.05448403e+00 -4.95197718e+00\n",
      "  -1.36588633e+01 -1.57052902e+01 -3.36371099e+01 -1.22421172e+01\n",
      "  -3.58728331e+01  7.91757710e+01  7.66968149e+01  2.92045029e+01\n",
      "   2.57863807e+01  4.11761519e+01  7.43811096e+01  2.42814908e+01\n",
      "   2.49060742e+01  4.35694383e+01  4.84277662e+00  1.45009095e+01\n",
      "  -3.03253858e+00 -4.93177810e+00  9.42529804e+00 -9.51271037e+00\n",
      "   2.57318507e+01 -1.74715528e+01 -1.63491168e+01  1.26577892e+01\n",
      "   2.18063030e+01 -2.30269656e+01 -3.58905419e+01 -3.54708891e+01\n",
      "  -1.75774038e+01 -1.15687630e+01 -3.01855470e+01 -3.51474018e+01\n",
      "  -1.97620324e+01 -1.11548854e+01 -2.88292206e+01 -3.19216403e+01\n",
      "  -4.22220469e+00 -1.99949259e+01 -5.22756244e+00 -1.11712469e+01\n",
      "  -8.76950182e+00  4.44237824e+00  5.59450297e+00  2.95476171e+01\n",
      "   2.40142892e+01  3.55616680e+01  6.53697427e+00  2.53564976e+01\n",
      "   2.14586285e+01  3.46144630e+01  7.55930645e+00 -6.48540764e+00\n",
      "  -1.91986873e-02 -1.98284196e+01 -5.82665512e+00  1.82530707e+01\n",
      "   7.29297581e+00  2.12284372e+01  1.90028580e+01  3.39505324e+01\n",
      "   3.60866002e+00 -9.10832272e+00 -1.97061204e+00 -2.04201111e+01\n",
      "  -4.45990178e+00  2.00970279e+01  2.54408570e+00 -5.07796075e-01\n",
      "  -5.81765867e+00 -6.52170278e+00 -2.31930760e+00 -2.11289953e+01\n",
      "  -2.00310523e+01 -5.09784846e+00  8.39368594e-01 -1.51907421e+01]]\n",
      "[   0.         -206.62038607  113.46419587  365.6347716     0.\n",
      "   -0.           -0.           -0.           -0.           -0.\n",
      "   -0.           -1.89338144   -0.           44.62532334    0.\n",
      "   14.24704617    0.            0.            0.            0.\n",
      "    0.            0.            0.           -0.            0.\n",
      "   -0.           -0.           -0.           -0.           -0.\n",
      "   -0.           -0.           -0.           -0.           -0.\n",
      "   -0.           -0.           -0.           -0.           -0.\n",
      "   -0.           -0.           -0.           -0.           -0.\n",
      "   -0.           -0.           -0.           -0.            0.\n",
      "    0.            0.            0.           21.78582905    0.\n",
      "    0.            0.            0.            0.            0.\n",
      "    0.           -0.            0.            0.            0.\n",
      "    0.            0.            0.            0.            0.\n",
      "    0.           -0.            0.            0.            0.\n",
      "   -0.            0.           -0.           -0.           -0.\n",
      "   -4.62957982   -0.           -0.           -0.        ]\n"
     ]
    }
   ],
   "source": [
    "# After run model_experiment with complexity == 'polynomial'\n",
    "\n",
    "lr_ols = trained_models['ols']\n",
    "lr_lasso = trained_models['lasso']\n",
    "lr_ridge =trained_models['ridge']\n",
    "\n",
    "# check the coefficients from Lasso\n",
    "\n",
    "print(lr_ridge.coef_)\n",
    "print(lr_lasso.coef_)\n",
    "\n",
    "# compare them with OLS/Ridge models.\n"
   ]
  },
  {
   "cell_type": "markdown",
   "metadata": {
    "slideshow": {
     "slide_type": "notes"
    }
   },
   "source": [
    "###### Effect of Scaling data"
   ]
  },
  {
   "cell_type": "code",
   "execution_count": 19,
   "metadata": {},
   "outputs": [
    {
     "data": {
      "image/png": "[encoded data removed]",
      "text/plain": [
       "<Figure size 432x288 with 1 Axes>"
      ]
     },
     "metadata": {
      "needs_background": "light"
     },
     "output_type": "display_data"
    }
   ],
   "source": [
    "x = np.random.lognormal(mean = 0, sigma = 0.7, size = 1000)\n",
    "\n",
    "plt.hist(x, label = 'original')\n",
    "\n",
    "\n",
    "x_scaled = (x - x.mean())/x.std(ddof = 1)\n",
    "\n",
    "log_x = np.log(x)\n",
    "\n",
    "plt.hist(x_scaled, label = \"scaled\", alpha  = 0.5)\n",
    "\n",
    "plt.hist(log_x, label = \"log-x\", alpha =0.7)\n",
    "plt.legend()\n",
    "plt.draw()"
   ]
  },
  {
   "cell_type": "markdown",
   "metadata": {
    "slideshow": {
     "slide_type": "slide"
    }
   },
   "source": [
    "# Review"
   ]
  },
  {
   "cell_type": "markdown",
   "metadata": {
    "slideshow": {
     "slide_type": "slide"
    }
   },
   "source": [
    "# Extra Resources\n",
    "\n",
    "- [A great notebook on Lasso and Ridge](https://github.com/gokererdogan/JaverianaMLCourse/blob/master/Lectures/05.pdf)\n",
    "\n",
    "- [Another good blog post on Lasso and Ridge](https://www.analyticsvidhya.com/blog/2016/01/complete-tutorial-ridge-lasso-regression-python/)\n",
    "\n",
    "- [sklearn.preprocessing.PolynomialFeatures documentation](https://scikit-learn.org/stable/modules/generated/sklearn.preprocessing.PolynomialFeatures.html)\n",
    "\n",
    "- [Toward Datascience Article](https://towardsdatascience.com/understanding-the-bias-variance-tradeoff-165e6942b229)\n",
    "\n",
    "- [Andrew Ng on Regularization](https://www.youtube.com/watch?v=NyG-7nRpsW8&list=PLkDaE6sCZn6Hn0vK8co82zjQtt3T2Nkqc&index=5)\n",
    "\n",
    "__More beginner level videos__\n",
    "\n",
    "- [StatQuest - Cross Validation](https://www.youtube.com/watch?v=fSytzGwwBVw&ab_channel=StatQuestwithJoshStarmer)\n",
    "\n",
    "- [StatQuest-Regularization - I](https://www.youtube.com/watch?v=Q81RR3yKn30&ab_channel=StatQuestwithJoshStarmer)\n",
    "\n",
    "- [StatQuest-Regularization - II](https://www.youtube.com/watch?v=NGf0voTMlcs&ab_channel=StatQuestwithJoshStarmer)\n",
    "\n",
    "- [Data School - Feature Selection](https://www.youtube.com/watch?v=YaKMeAlHgqQ&ab_channel=DataSchool)\n",
    "\n",
    "- [Data School - Cross Validation](https://www.youtube.com/watch?v=6dbrR-WymjI&ab_channel=DataSchool)"
   ]
  }
 ],
 "metadata": {
  "celltoolbar": "Slideshow",
  "kernelspec": {
   "display_name": "Python 3",
   "language": "python",
   "name": "python3"
  },
  "language_info": {
   "codemirror_mode": {
    "name": "ipython",
    "version": 3
   },
   "file_extension": ".py",
   "mimetype": "text/x-python",
   "name": "python",
   "nbconvert_exporter": "python",
   "pygments_lexer": "ipython3",
   "version": "3.8.3"
  },
  "toc": {
   "base_numbering": 1,
   "nav_menu": {},
   "number_sections": true,
   "sideBar": true,
   "skip_h1_title": false,
   "title_cell": "Table of Contents",
   "title_sidebar": "Contents",
   "toc_cell": false,
   "toc_position": {},
   "toc_section_display": true,
   "toc_window_display": false
  }
 },
 "nbformat": 4,
 "nbformat_minor": 4
}
