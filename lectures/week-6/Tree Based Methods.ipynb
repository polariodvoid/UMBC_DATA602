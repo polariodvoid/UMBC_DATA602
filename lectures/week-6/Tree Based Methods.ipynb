{
 "cells": [
  {
   "cell_type": "markdown",
   "metadata": {},
   "source": [
    "# Week-6 Reading List\n",
    "\n",
    "\n",
    "## ISLR - Chapter - 8 - Tree Based Methods\n",
    "\n",
    "\n",
    "Read: 8.1: The basics of decision trees\n",
    "\n",
    "Read: 8.2.1: Bagging \n",
    "\n",
    "__Some points to keep in your mind as you're reading__\n",
    "\n",
    "- Note that decision trees can handle both regression and classification problems\n",
    "\n",
    "- They say decision trees are not competitive with respect to their performance. Then why bother to learn them?\n",
    "\n",
    "- Terminology: What is node, leaf, branch, root\n",
    "\n",
    "- What are the two main steps of building a regression tree\n",
    "\n",
    "- What is the cost function in regression trees?\n",
    "\n",
    "- Do you see why it is computationally infeasible to consider every partition?\n",
    "\n",
    "- What is greed approach or greedy algorithm?\n",
    "\n",
    "- Understand equation 8.2 and 8.3\n",
    "\n",
    "- When do you stop building a regression tree?\n",
    "\n",
    "- What is pruning?\n",
    "\n",
    "- Why one might need to prune a tree?\n",
    "\n",
    "- What are the some good approaches to prune a regression tree?\n",
    "\n",
    "- Understand algorithm 8.1\n",
    "\n",
    "- What is the similarities and differences of classification trees and regression trees.\n",
    "\n",
    "- Understand equation 8.5, 8.6 and 8.7\n",
    "\n",
    "- Advantages and disadvantages of tree methods with respect to linear models.\n",
    "\n",
    "- What is bagging and why is it useful?\n",
    "\n",
    "- Understand bootstrapping.\n"
   ]
  }
 ],
 "metadata": {
  "kernelspec": {
   "display_name": "Python 3",
   "language": "python",
   "name": "python3"
  },
  "language_info": {
   "codemirror_mode": {
    "name": "ipython",
    "version": 3
   },
   "file_extension": ".py",
   "mimetype": "text/x-python",
   "name": "python",
   "nbconvert_exporter": "python",
   "pygments_lexer": "ipython3",
   "version": "3.8.3"
  },
  "toc": {
   "base_numbering": 1,
   "nav_menu": {},
   "number_sections": true,
   "sideBar": true,
   "skip_h1_title": false,
   "title_cell": "Table of Contents",
   "title_sidebar": "Contents",
   "toc_cell": false,
   "toc_position": {},
   "toc_section_display": true,
   "toc_window_display": false
  }
 },
 "nbformat": 4,
 "nbformat_minor": 4
}
