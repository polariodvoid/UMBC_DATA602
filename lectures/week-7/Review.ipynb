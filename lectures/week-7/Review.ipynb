{
 "cells": [
  {
   "cell_type": "markdown",
   "metadata": {},
   "source": [
    "# Review"
   ]
  },
  {
   "cell_type": "markdown",
   "metadata": {},
   "source": [
    "[Dataset](https://archive.ics.uci.edu/ml/datasets/Breast+Cancer+Wisconsin+(Diagnostic))"
   ]
  },
  {
   "cell_type": "code",
   "execution_count": 1,
   "metadata": {},
   "outputs": [],
   "source": [
    "import pandas as pd"
   ]
  },
  {
   "cell_type": "code",
   "execution_count": 2,
   "metadata": {},
   "outputs": [],
   "source": [
    "df = pd.read_csv( 'https://archive.ics.uci.edu/ml/''machine-learning-databases''/breast-cancer-wisconsin/wdbc.data', header=None)"
   ]
  },
  {
   "cell_type": "code",
   "execution_count": 3,
   "metadata": {},
   "outputs": [],
   "source": [
    "X = df.loc[:,2: ]"
   ]
  },
  {
   "cell_type": "code",
   "execution_count": 4,
   "metadata": {},
   "outputs": [
    {
     "data": {
      "text/html": [
       "<div>\n",
       "<style scoped>\n",
       "    .dataframe tbody tr th:only-of-type {\n",
       "        vertical-align: middle;\n",
       "    }\n",
       "\n",
       "    .dataframe tbody tr th {\n",
       "        vertical-align: top;\n",
       "    }\n",
       "\n",
       "    .dataframe thead th {\n",
       "        text-align: right;\n",
       "    }\n",
       "</style>\n",
       "<table border=\"1\" class=\"dataframe\">\n",
       "  <thead>\n",
       "    <tr style=\"text-align: right;\">\n",
       "      <th></th>\n",
       "      <th>2</th>\n",
       "      <th>3</th>\n",
       "      <th>4</th>\n",
       "      <th>5</th>\n",
       "      <th>6</th>\n",
       "      <th>7</th>\n",
       "      <th>8</th>\n",
       "      <th>9</th>\n",
       "      <th>10</th>\n",
       "      <th>11</th>\n",
       "      <th>...</th>\n",
       "      <th>22</th>\n",
       "      <th>23</th>\n",
       "      <th>24</th>\n",
       "      <th>25</th>\n",
       "      <th>26</th>\n",
       "      <th>27</th>\n",
       "      <th>28</th>\n",
       "      <th>29</th>\n",
       "      <th>30</th>\n",
       "      <th>31</th>\n",
       "    </tr>\n",
       "  </thead>\n",
       "  <tbody>\n",
       "    <tr>\n",
       "      <th>0</th>\n",
       "      <td>17.99</td>\n",
       "      <td>10.38</td>\n",
       "      <td>122.80</td>\n",
       "      <td>1001.0</td>\n",
       "      <td>0.11840</td>\n",
       "      <td>0.27760</td>\n",
       "      <td>0.3001</td>\n",
       "      <td>0.14710</td>\n",
       "      <td>0.2419</td>\n",
       "      <td>0.07871</td>\n",
       "      <td>...</td>\n",
       "      <td>25.38</td>\n",
       "      <td>17.33</td>\n",
       "      <td>184.60</td>\n",
       "      <td>2019.0</td>\n",
       "      <td>0.1622</td>\n",
       "      <td>0.6656</td>\n",
       "      <td>0.7119</td>\n",
       "      <td>0.2654</td>\n",
       "      <td>0.4601</td>\n",
       "      <td>0.11890</td>\n",
       "    </tr>\n",
       "    <tr>\n",
       "      <th>1</th>\n",
       "      <td>20.57</td>\n",
       "      <td>17.77</td>\n",
       "      <td>132.90</td>\n",
       "      <td>1326.0</td>\n",
       "      <td>0.08474</td>\n",
       "      <td>0.07864</td>\n",
       "      <td>0.0869</td>\n",
       "      <td>0.07017</td>\n",
       "      <td>0.1812</td>\n",
       "      <td>0.05667</td>\n",
       "      <td>...</td>\n",
       "      <td>24.99</td>\n",
       "      <td>23.41</td>\n",
       "      <td>158.80</td>\n",
       "      <td>1956.0</td>\n",
       "      <td>0.1238</td>\n",
       "      <td>0.1866</td>\n",
       "      <td>0.2416</td>\n",
       "      <td>0.1860</td>\n",
       "      <td>0.2750</td>\n",
       "      <td>0.08902</td>\n",
       "    </tr>\n",
       "    <tr>\n",
       "      <th>2</th>\n",
       "      <td>19.69</td>\n",
       "      <td>21.25</td>\n",
       "      <td>130.00</td>\n",
       "      <td>1203.0</td>\n",
       "      <td>0.10960</td>\n",
       "      <td>0.15990</td>\n",
       "      <td>0.1974</td>\n",
       "      <td>0.12790</td>\n",
       "      <td>0.2069</td>\n",
       "      <td>0.05999</td>\n",
       "      <td>...</td>\n",
       "      <td>23.57</td>\n",
       "      <td>25.53</td>\n",
       "      <td>152.50</td>\n",
       "      <td>1709.0</td>\n",
       "      <td>0.1444</td>\n",
       "      <td>0.4245</td>\n",
       "      <td>0.4504</td>\n",
       "      <td>0.2430</td>\n",
       "      <td>0.3613</td>\n",
       "      <td>0.08758</td>\n",
       "    </tr>\n",
       "    <tr>\n",
       "      <th>3</th>\n",
       "      <td>11.42</td>\n",
       "      <td>20.38</td>\n",
       "      <td>77.58</td>\n",
       "      <td>386.1</td>\n",
       "      <td>0.14250</td>\n",
       "      <td>0.28390</td>\n",
       "      <td>0.2414</td>\n",
       "      <td>0.10520</td>\n",
       "      <td>0.2597</td>\n",
       "      <td>0.09744</td>\n",
       "      <td>...</td>\n",
       "      <td>14.91</td>\n",
       "      <td>26.50</td>\n",
       "      <td>98.87</td>\n",
       "      <td>567.7</td>\n",
       "      <td>0.2098</td>\n",
       "      <td>0.8663</td>\n",
       "      <td>0.6869</td>\n",
       "      <td>0.2575</td>\n",
       "      <td>0.6638</td>\n",
       "      <td>0.17300</td>\n",
       "    </tr>\n",
       "    <tr>\n",
       "      <th>4</th>\n",
       "      <td>20.29</td>\n",
       "      <td>14.34</td>\n",
       "      <td>135.10</td>\n",
       "      <td>1297.0</td>\n",
       "      <td>0.10030</td>\n",
       "      <td>0.13280</td>\n",
       "      <td>0.1980</td>\n",
       "      <td>0.10430</td>\n",
       "      <td>0.1809</td>\n",
       "      <td>0.05883</td>\n",
       "      <td>...</td>\n",
       "      <td>22.54</td>\n",
       "      <td>16.67</td>\n",
       "      <td>152.20</td>\n",
       "      <td>1575.0</td>\n",
       "      <td>0.1374</td>\n",
       "      <td>0.2050</td>\n",
       "      <td>0.4000</td>\n",
       "      <td>0.1625</td>\n",
       "      <td>0.2364</td>\n",
       "      <td>0.07678</td>\n",
       "    </tr>\n",
       "  </tbody>\n",
       "</table>\n",
       "<p>5 rows × 30 columns</p>\n",
       "</div>"
      ],
      "text/plain": [
       "      2      3       4       5        6        7       8        9       10  \\\n",
       "0  17.99  10.38  122.80  1001.0  0.11840  0.27760  0.3001  0.14710  0.2419   \n",
       "1  20.57  17.77  132.90  1326.0  0.08474  0.07864  0.0869  0.07017  0.1812   \n",
       "2  19.69  21.25  130.00  1203.0  0.10960  0.15990  0.1974  0.12790  0.2069   \n",
       "3  11.42  20.38   77.58   386.1  0.14250  0.28390  0.2414  0.10520  0.2597   \n",
       "4  20.29  14.34  135.10  1297.0  0.10030  0.13280  0.1980  0.10430  0.1809   \n",
       "\n",
       "        11  ...     22     23      24      25      26      27      28      29  \\\n",
       "0  0.07871  ...  25.38  17.33  184.60  2019.0  0.1622  0.6656  0.7119  0.2654   \n",
       "1  0.05667  ...  24.99  23.41  158.80  1956.0  0.1238  0.1866  0.2416  0.1860   \n",
       "2  0.05999  ...  23.57  25.53  152.50  1709.0  0.1444  0.4245  0.4504  0.2430   \n",
       "3  0.09744  ...  14.91  26.50   98.87   567.7  0.2098  0.8663  0.6869  0.2575   \n",
       "4  0.05883  ...  22.54  16.67  152.20  1575.0  0.1374  0.2050  0.4000  0.1625   \n",
       "\n",
       "       30       31  \n",
       "0  0.4601  0.11890  \n",
       "1  0.2750  0.08902  \n",
       "2  0.3613  0.08758  \n",
       "3  0.6638  0.17300  \n",
       "4  0.2364  0.07678  \n",
       "\n",
       "[5 rows x 30 columns]"
      ]
     },
     "execution_count": 4,
     "metadata": {},
     "output_type": "execute_result"
    }
   ],
   "source": [
    "X.head()"
   ]
  },
  {
   "cell_type": "code",
   "execution_count": 5,
   "metadata": {},
   "outputs": [],
   "source": [
    "from sklearn.preprocessing import LabelEncoder"
   ]
  },
  {
   "cell_type": "code",
   "execution_count": 6,
   "metadata": {},
   "outputs": [],
   "source": [
    "y = df.loc[:, 1]"
   ]
  },
  {
   "cell_type": "code",
   "execution_count": 7,
   "metadata": {},
   "outputs": [],
   "source": [
    "le = LabelEncoder()\n",
    "\n",
    "y = le.fit_transform(y)"
   ]
  },
  {
   "cell_type": "code",
   "execution_count": 8,
   "metadata": {},
   "outputs": [
    {
     "data": {
      "text/plain": [
       "(array([0, 1]), array([357, 212]))"
      ]
     },
     "execution_count": 8,
     "metadata": {},
     "output_type": "execute_result"
    }
   ],
   "source": [
    "import numpy as np\n",
    "np.unique(y, return_counts = True)"
   ]
  },
  {
   "cell_type": "code",
   "execution_count": 9,
   "metadata": {},
   "outputs": [
    {
     "data": {
      "text/plain": [
       "0.37258347978910367"
      ]
     },
     "execution_count": 9,
     "metadata": {},
     "output_type": "execute_result"
    }
   ],
   "source": [
    "212/(357+212)"
   ]
  },
  {
   "cell_type": "code",
   "execution_count": 10,
   "metadata": {},
   "outputs": [],
   "source": [
    "from sklearn.model_selection import train_test_split\n"
   ]
  },
  {
   "cell_type": "code",
   "execution_count": 11,
   "metadata": {},
   "outputs": [],
   "source": [
    "X_train, X_test, y_train, y_test = train_test_split(X, y, test_size = 0.20, stratify = y, random_state = 1 )"
   ]
  },
  {
   "cell_type": "markdown",
   "metadata": {},
   "source": [
    "# Logistic Regression"
   ]
  },
  {
   "cell_type": "markdown",
   "metadata": {},
   "source": [
    "## No regularization"
   ]
  },
  {
   "cell_type": "code",
   "execution_count": 12,
   "metadata": {},
   "outputs": [],
   "source": [
    "from sklearn.linear_model import LogisticRegression"
   ]
  },
  {
   "cell_type": "code",
   "execution_count": 13,
   "metadata": {},
   "outputs": [],
   "source": [
    "lr = LogisticRegression(penalty = 'none', max_iter=10000, solver= 'saga' )"
   ]
  },
  {
   "cell_type": "code",
   "execution_count": 14,
   "metadata": {},
   "outputs": [],
   "source": [
    "from sklearn.model_selection import cross_validate"
   ]
  },
  {
   "cell_type": "code",
   "execution_count": 15,
   "metadata": {},
   "outputs": [],
   "source": [
    "cv_fivefold = cross_validate(estimator = lr, \n",
    "                             X=X_train,\n",
    "                             y=y_train,\n",
    "                             cv =5, \n",
    "                             return_train_score= True,\n",
    "                             return_estimator= True )"
   ]
  },
  {
   "cell_type": "code",
   "execution_count": 16,
   "metadata": {},
   "outputs": [
    {
     "data": {
      "text/plain": [
       "{'fit_time': array([0.28786898, 0.28210878, 0.30018497, 0.27381706, 0.30137801]),\n",
       " 'score_time': array([0.00174475, 0.00143504, 0.00154305, 0.00157809, 0.00158095]),\n",
       " 'estimator': (LogisticRegression(max_iter=10000, penalty='none', solver='saga'),\n",
       "  LogisticRegression(max_iter=10000, penalty='none', solver='saga'),\n",
       "  LogisticRegression(max_iter=10000, penalty='none', solver='saga'),\n",
       "  LogisticRegression(max_iter=10000, penalty='none', solver='saga'),\n",
       "  LogisticRegression(max_iter=10000, penalty='none', solver='saga')),\n",
       " 'test_score': array([0.9010989 , 0.95604396, 0.91208791, 0.86813187, 0.92307692]),\n",
       " 'train_score': array([0.91483516, 0.90934066, 0.91758242, 0.93131868, 0.91483516])}"
      ]
     },
     "execution_count": 16,
     "metadata": {},
     "output_type": "execute_result"
    }
   ],
   "source": [
    "cv_fivefold"
   ]
  },
  {
   "cell_type": "code",
   "execution_count": 17,
   "metadata": {},
   "outputs": [],
   "source": [
    "results = {'logreg_no_penalty': [cv_fivefold['test_score'], cv_fivefold['train_score']]}"
   ]
  },
  {
   "cell_type": "code",
   "execution_count": 18,
   "metadata": {},
   "outputs": [
    {
     "data": {
      "text/plain": [
       "[array([0.9010989 , 0.95604396, 0.91208791, 0.86813187, 0.92307692]),\n",
       " array([0.91483516, 0.90934066, 0.91758242, 0.93131868, 0.91483516])]"
      ]
     },
     "execution_count": 18,
     "metadata": {},
     "output_type": "execute_result"
    }
   ],
   "source": [
    "results['logreg_no_penalty']"
   ]
  },
  {
   "cell_type": "code",
   "execution_count": 19,
   "metadata": {},
   "outputs": [],
   "source": [
    "from sklearn.metrics import confusion_matrix\n",
    "import seaborn as sns"
   ]
  },
  {
   "cell_type": "code",
   "execution_count": 20,
   "metadata": {},
   "outputs": [],
   "source": [
    "from sklearn.metrics import accuracy_score, precision_score, recall_score"
   ]
  },
  {
   "cell_type": "code",
   "execution_count": 21,
   "metadata": {},
   "outputs": [],
   "source": [
    "lr.fit(X_train, y_train)\n",
    "y_pred = lr.predict(X_train)\n",
    "score = lr.score(X_train, y_train)\n",
    "cm = confusion_matrix(y_train, y_pred)"
   ]
  },
  {
   "cell_type": "code",
   "execution_count": 22,
   "metadata": {},
   "outputs": [
    {
     "data": {
      "text/plain": [
       "0.8470588235294118"
      ]
     },
     "execution_count": 22,
     "metadata": {},
     "output_type": "execute_result"
    }
   ],
   "source": [
    "recall_score(y_train, y_pred)"
   ]
  },
  {
   "cell_type": "code",
   "execution_count": 23,
   "metadata": {},
   "outputs": [],
   "source": [
    "import matplotlib.pyplot as plt"
   ]
  },
  {
   "cell_type": "code",
   "execution_count": 24,
   "metadata": {},
   "outputs": [],
   "source": [
    "import utils\n",
    "\n"
   ]
  },
  {
   "cell_type": "code",
   "execution_count": 25,
   "metadata": {},
   "outputs": [
    {
     "data": {
      "image/png": "[encoded data removed]",
      "text/plain": [
       "<Figure size 648x648 with 2 Axes>"
      ]
     },
     "metadata": {
      "needs_background": "light"
     },
     "output_type": "display_data"
    }
   ],
   "source": [
    "utils.plot_confusion_matrix(cm, score)"
   ]
  },
  {
   "cell_type": "code",
   "execution_count": 106,
   "metadata": {},
   "outputs": [],
   "source": [
    "results['logreg_no_penalty'].append(cm)"
   ]
  },
  {
   "cell_type": "code",
   "execution_count": 107,
   "metadata": {},
   "outputs": [
    {
     "data": {
      "text/plain": [
       "{'logreg_no_penalty': [array([0.9010989 , 0.95604396, 0.91208791, 0.86813187, 0.92307692]),\n",
       "  array([0.91483516, 0.90934066, 0.91758242, 0.93131868, 0.91483516]),\n",
       "  array([[273,  12],\n",
       "         [ 26, 144]])]}"
      ]
     },
     "execution_count": 107,
     "metadata": {},
     "output_type": "execute_result"
    }
   ],
   "source": [
    "results"
   ]
  },
  {
   "cell_type": "markdown",
   "metadata": {},
   "source": [
    "## Logistic Regression with Regularization"
   ]
  },
  {
   "cell_type": "code",
   "execution_count": 108,
   "metadata": {},
   "outputs": [],
   "source": [
    "from sklearn.model_selection import GridSearchCV"
   ]
  },
  {
   "cell_type": "code",
   "execution_count": 109,
   "metadata": {},
   "outputs": [],
   "source": [
    "from sklearn.preprocessing import StandardScaler\n",
    "\n",
    "std_scaler = StandardScaler()"
   ]
  },
  {
   "cell_type": "code",
   "execution_count": 275,
   "metadata": {},
   "outputs": [],
   "source": [
    "X_train_scaled = std_scaler.fit_transform(X_train)\n",
    "X_test_scaled = std_scaler.transform(X_test)"
   ]
  },
  {
   "cell_type": "code",
   "execution_count": 111,
   "metadata": {},
   "outputs": [],
   "source": [
    "grid = {'C': [0.1, 1, 10, 100, 1000], 'penalty' :['l1', 'l2']}"
   ]
  },
  {
   "cell_type": "code",
   "execution_count": 286,
   "metadata": {},
   "outputs": [],
   "source": [
    "lr = LogisticRegression(max_iter= 10000, solver = 'saga')\n",
    "clf = GridSearchCV(estimator = lr, param_grid= grid, n_jobs = -1, verbose= 2, cv=5, return_train_score=True)"
   ]
  },
  {
   "cell_type": "code",
   "execution_count": 282,
   "metadata": {},
   "outputs": [
    {
     "name": "stdout",
     "output_type": "stream",
     "text": [
      "Fitting 5 folds for each of 10 candidates, totalling 50 fits\n"
     ]
    },
    {
     "name": "stderr",
     "output_type": "stream",
     "text": [
      "[Parallel(n_jobs=-1)]: Using backend LokyBackend with 12 concurrent workers.\n",
      "[Parallel(n_jobs=-1)]: Done  17 tasks      | elapsed:    1.7s\n",
      "[Parallel(n_jobs=-1)]: Done  50 out of  50 | elapsed:    3.8s finished\n"
     ]
    },
    {
     "data": {
      "text/plain": [
       "GridSearchCV(cv=5, estimator=LogisticRegression(max_iter=10000, solver='saga'),\n",
       "             n_jobs=-1,\n",
       "             param_grid={'C': [0.1, 1, 10, 100, 1000], 'penalty': ['l1', 'l2']},\n",
       "             return_train_score=True, scoring='roc_auc', verbose=2)"
      ]
     },
     "execution_count": 282,
     "metadata": {},
     "output_type": "execute_result"
    }
   ],
   "source": [
    "clf.fit(X_train_scaled, y_train)"
   ]
  },
  {
   "cell_type": "code",
   "execution_count": 283,
   "metadata": {},
   "outputs": [
    {
     "data": {
      "text/html": [
       "<div>\n",
       "<style scoped>\n",
       "    .dataframe tbody tr th:only-of-type {\n",
       "        vertical-align: middle;\n",
       "    }\n",
       "\n",
       "    .dataframe tbody tr th {\n",
       "        vertical-align: top;\n",
       "    }\n",
       "\n",
       "    .dataframe thead th {\n",
       "        text-align: right;\n",
       "    }\n",
       "</style>\n",
       "<table border=\"1\" class=\"dataframe\">\n",
       "  <thead>\n",
       "    <tr style=\"text-align: right;\">\n",
       "      <th></th>\n",
       "      <th>3</th>\n",
       "      <th>1</th>\n",
       "      <th>2</th>\n",
       "      <th>5</th>\n",
       "      <th>4</th>\n",
       "      <th>0</th>\n",
       "      <th>7</th>\n",
       "      <th>9</th>\n",
       "      <th>6</th>\n",
       "      <th>8</th>\n",
       "    </tr>\n",
       "  </thead>\n",
       "  <tbody>\n",
       "    <tr>\n",
       "      <th>mean_fit_time</th>\n",
       "      <td>0.0830776</td>\n",
       "      <td>0.0233022</td>\n",
       "      <td>0.705327</td>\n",
       "      <td>0.336485</td>\n",
       "      <td>0.719033</td>\n",
       "      <td>0.282084</td>\n",
       "      <td>0.733404</td>\n",
       "      <td>0.645375</td>\n",
       "      <td>1.049</td>\n",
       "      <td>0.940879</td>\n",
       "    </tr>\n",
       "    <tr>\n",
       "      <th>std_fit_time</th>\n",
       "      <td>0.0144929</td>\n",
       "      <td>0.00408378</td>\n",
       "      <td>0.102014</td>\n",
       "      <td>0.0511751</td>\n",
       "      <td>0.0872182</td>\n",
       "      <td>0.14032</td>\n",
       "      <td>0.0993159</td>\n",
       "      <td>0.0560117</td>\n",
       "      <td>0.122111</td>\n",
       "      <td>0.0896352</td>\n",
       "    </tr>\n",
       "    <tr>\n",
       "      <th>mean_score_time</th>\n",
       "      <td>0.00125465</td>\n",
       "      <td>0.00219736</td>\n",
       "      <td>0.00148306</td>\n",
       "      <td>0.0012413</td>\n",
       "      <td>0.00123935</td>\n",
       "      <td>0.00186939</td>\n",
       "      <td>0.00127044</td>\n",
       "      <td>0.000923061</td>\n",
       "      <td>0.00130119</td>\n",
       "      <td>0.000888968</td>\n",
       "    </tr>\n",
       "    <tr>\n",
       "      <th>std_score_time</th>\n",
       "      <td>1.07649e-05</td>\n",
       "      <td>0.000480634</td>\n",
       "      <td>0.000235478</td>\n",
       "      <td>1.99319e-05</td>\n",
       "      <td>0.000224686</td>\n",
       "      <td>0.000234346</td>\n",
       "      <td>1.90792e-05</td>\n",
       "      <td>6.93257e-05</td>\n",
       "      <td>8.72251e-05</td>\n",
       "      <td>5.9265e-05</td>\n",
       "    </tr>\n",
       "    <tr>\n",
       "      <th>param_C</th>\n",
       "      <td>1</td>\n",
       "      <td>0.1</td>\n",
       "      <td>1</td>\n",
       "      <td>10</td>\n",
       "      <td>10</td>\n",
       "      <td>0.1</td>\n",
       "      <td>100</td>\n",
       "      <td>1000</td>\n",
       "      <td>100</td>\n",
       "      <td>1000</td>\n",
       "    </tr>\n",
       "    <tr>\n",
       "      <th>param_penalty</th>\n",
       "      <td>l2</td>\n",
       "      <td>l2</td>\n",
       "      <td>l1</td>\n",
       "      <td>l2</td>\n",
       "      <td>l1</td>\n",
       "      <td>l1</td>\n",
       "      <td>l2</td>\n",
       "      <td>l2</td>\n",
       "      <td>l1</td>\n",
       "      <td>l1</td>\n",
       "    </tr>\n",
       "    <tr>\n",
       "      <th>params</th>\n",
       "      <td>{'C': 1, 'penalty': 'l2'}</td>\n",
       "      <td>{'C': 0.1, 'penalty': 'l2'}</td>\n",
       "      <td>{'C': 1, 'penalty': 'l1'}</td>\n",
       "      <td>{'C': 10, 'penalty': 'l2'}</td>\n",
       "      <td>{'C': 10, 'penalty': 'l1'}</td>\n",
       "      <td>{'C': 0.1, 'penalty': 'l1'}</td>\n",
       "      <td>{'C': 100, 'penalty': 'l2'}</td>\n",
       "      <td>{'C': 1000, 'penalty': 'l2'}</td>\n",
       "      <td>{'C': 100, 'penalty': 'l1'}</td>\n",
       "      <td>{'C': 1000, 'penalty': 'l1'}</td>\n",
       "    </tr>\n",
       "    <tr>\n",
       "      <th>split0_test_score</th>\n",
       "      <td>0.998968</td>\n",
       "      <td>0.99742</td>\n",
       "      <td>0.992776</td>\n",
       "      <td>0.998452</td>\n",
       "      <td>0.996388</td>\n",
       "      <td>0.979876</td>\n",
       "      <td>0.995356</td>\n",
       "      <td>0.995356</td>\n",
       "      <td>0.995356</td>\n",
       "      <td>0.995356</td>\n",
       "    </tr>\n",
       "    <tr>\n",
       "      <th>split1_test_score</th>\n",
       "      <td>0.998968</td>\n",
       "      <td>0.998968</td>\n",
       "      <td>0.998968</td>\n",
       "      <td>0.996904</td>\n",
       "      <td>0.996388</td>\n",
       "      <td>0.999484</td>\n",
       "      <td>0.990712</td>\n",
       "      <td>0.98968</td>\n",
       "      <td>0.98968</td>\n",
       "      <td>0.98968</td>\n",
       "    </tr>\n",
       "    <tr>\n",
       "      <th>split2_test_score</th>\n",
       "      <td>0.975748</td>\n",
       "      <td>0.971104</td>\n",
       "      <td>0.975748</td>\n",
       "      <td>0.975232</td>\n",
       "      <td>0.975748</td>\n",
       "      <td>0.967492</td>\n",
       "      <td>0.975232</td>\n",
       "      <td>0.975232</td>\n",
       "      <td>0.974716</td>\n",
       "      <td>0.974716</td>\n",
       "    </tr>\n",
       "    <tr>\n",
       "      <th>split3_test_score</th>\n",
       "      <td>1</td>\n",
       "      <td>1</td>\n",
       "      <td>1</td>\n",
       "      <td>0.985036</td>\n",
       "      <td>0.980392</td>\n",
       "      <td>0.998968</td>\n",
       "      <td>0.975748</td>\n",
       "      <td>0.975232</td>\n",
       "      <td>0.975232</td>\n",
       "      <td>0.974716</td>\n",
       "    </tr>\n",
       "    <tr>\n",
       "      <th>split4_test_score</th>\n",
       "      <td>1</td>\n",
       "      <td>1</td>\n",
       "      <td>1</td>\n",
       "      <td>1</td>\n",
       "      <td>1</td>\n",
       "      <td>1</td>\n",
       "      <td>0.999484</td>\n",
       "      <td>0.999484</td>\n",
       "      <td>0.999484</td>\n",
       "      <td>0.999484</td>\n",
       "    </tr>\n",
       "    <tr>\n",
       "      <th>mean_test_score</th>\n",
       "      <td>0.994737</td>\n",
       "      <td>0.993498</td>\n",
       "      <td>0.993498</td>\n",
       "      <td>0.991125</td>\n",
       "      <td>0.989783</td>\n",
       "      <td>0.989164</td>\n",
       "      <td>0.987307</td>\n",
       "      <td>0.986997</td>\n",
       "      <td>0.986894</td>\n",
       "      <td>0.986791</td>\n",
       "    </tr>\n",
       "    <tr>\n",
       "      <th>std_test_score</th>\n",
       "      <td>0.00950553</td>\n",
       "      <td>0.0112369</td>\n",
       "      <td>0.00927416</td>\n",
       "      <td>0.00954467</td>\n",
       "      <td>0.00976528</td>\n",
       "      <td>0.0132361</td>\n",
       "      <td>0.0100406</td>\n",
       "      <td>0.0100977</td>\n",
       "      <td>0.0102193</td>\n",
       "      <td>0.0103385</td>\n",
       "    </tr>\n",
       "    <tr>\n",
       "      <th>rank_test_score</th>\n",
       "      <td>1</td>\n",
       "      <td>2</td>\n",
       "      <td>2</td>\n",
       "      <td>4</td>\n",
       "      <td>5</td>\n",
       "      <td>6</td>\n",
       "      <td>7</td>\n",
       "      <td>8</td>\n",
       "      <td>9</td>\n",
       "      <td>10</td>\n",
       "    </tr>\n",
       "    <tr>\n",
       "      <th>split0_train_score</th>\n",
       "      <td>0.997517</td>\n",
       "      <td>0.995517</td>\n",
       "      <td>0.996904</td>\n",
       "      <td>0.999162</td>\n",
       "      <td>0.999613</td>\n",
       "      <td>0.995356</td>\n",
       "      <td>0.999807</td>\n",
       "      <td>0.999936</td>\n",
       "      <td>0.999871</td>\n",
       "      <td>0.999936</td>\n",
       "    </tr>\n",
       "    <tr>\n",
       "      <th>split1_train_score</th>\n",
       "      <td>0.997065</td>\n",
       "      <td>0.995259</td>\n",
       "      <td>0.997452</td>\n",
       "      <td>0.998549</td>\n",
       "      <td>0.999194</td>\n",
       "      <td>0.992905</td>\n",
       "      <td>0.999549</td>\n",
       "      <td>0.999645</td>\n",
       "      <td>0.999645</td>\n",
       "      <td>0.999645</td>\n",
       "    </tr>\n",
       "    <tr>\n",
       "      <th>split2_train_score</th>\n",
       "      <td>0.999678</td>\n",
       "      <td>0.999162</td>\n",
       "      <td>0.999549</td>\n",
       "      <td>0.999968</td>\n",
       "      <td>0.999968</td>\n",
       "      <td>0.995872</td>\n",
       "      <td>1</td>\n",
       "      <td>1</td>\n",
       "      <td>1</td>\n",
       "      <td>1</td>\n",
       "    </tr>\n",
       "    <tr>\n",
       "      <th>split3_train_score</th>\n",
       "      <td>0.997001</td>\n",
       "      <td>0.99513</td>\n",
       "      <td>0.99713</td>\n",
       "      <td>0.998742</td>\n",
       "      <td>0.999194</td>\n",
       "      <td>0.99326</td>\n",
       "      <td>0.999613</td>\n",
       "      <td>0.999645</td>\n",
       "      <td>0.999645</td>\n",
       "      <td>0.999645</td>\n",
       "    </tr>\n",
       "    <tr>\n",
       "      <th>split4_train_score</th>\n",
       "      <td>0.99642</td>\n",
       "      <td>0.995001</td>\n",
       "      <td>0.996324</td>\n",
       "      <td>0.997968</td>\n",
       "      <td>0.998259</td>\n",
       "      <td>0.992647</td>\n",
       "      <td>0.998742</td>\n",
       "      <td>0.998936</td>\n",
       "      <td>0.998904</td>\n",
       "      <td>0.998936</td>\n",
       "    </tr>\n",
       "    <tr>\n",
       "      <th>mean_train_score</th>\n",
       "      <td>0.997536</td>\n",
       "      <td>0.996014</td>\n",
       "      <td>0.997472</td>\n",
       "      <td>0.998878</td>\n",
       "      <td>0.999245</td>\n",
       "      <td>0.994008</td>\n",
       "      <td>0.999542</td>\n",
       "      <td>0.999632</td>\n",
       "      <td>0.999613</td>\n",
       "      <td>0.999632</td>\n",
       "    </tr>\n",
       "    <tr>\n",
       "      <th>std_train_score</th>\n",
       "      <td>0.00112599</td>\n",
       "      <td>0.00158301</td>\n",
       "      <td>0.0011019</td>\n",
       "      <td>0.000666689</td>\n",
       "      <td>0.000572049</td>\n",
       "      <td>0.00133568</td>\n",
       "      <td>0.000429975</td>\n",
       "      <td>0.000377529</td>\n",
       "      <td>0.000379945</td>\n",
       "      <td>0.000377529</td>\n",
       "    </tr>\n",
       "  </tbody>\n",
       "</table>\n",
       "</div>"
      ],
      "text/plain": [
       "                                            3                            1  \\\n",
       "mean_fit_time                       0.0830776                    0.0233022   \n",
       "std_fit_time                        0.0144929                   0.00408378   \n",
       "mean_score_time                    0.00125465                   0.00219736   \n",
       "std_score_time                    1.07649e-05                  0.000480634   \n",
       "param_C                                     1                          0.1   \n",
       "param_penalty                              l2                           l2   \n",
       "params              {'C': 1, 'penalty': 'l2'}  {'C': 0.1, 'penalty': 'l2'}   \n",
       "split0_test_score                    0.998968                      0.99742   \n",
       "split1_test_score                    0.998968                     0.998968   \n",
       "split2_test_score                    0.975748                     0.971104   \n",
       "split3_test_score                           1                            1   \n",
       "split4_test_score                           1                            1   \n",
       "mean_test_score                      0.994737                     0.993498   \n",
       "std_test_score                     0.00950553                    0.0112369   \n",
       "rank_test_score                             1                            2   \n",
       "split0_train_score                   0.997517                     0.995517   \n",
       "split1_train_score                   0.997065                     0.995259   \n",
       "split2_train_score                   0.999678                     0.999162   \n",
       "split3_train_score                   0.997001                      0.99513   \n",
       "split4_train_score                    0.99642                     0.995001   \n",
       "mean_train_score                     0.997536                     0.996014   \n",
       "std_train_score                    0.00112599                   0.00158301   \n",
       "\n",
       "                                            2                           5  \\\n",
       "mean_fit_time                        0.705327                    0.336485   \n",
       "std_fit_time                         0.102014                   0.0511751   \n",
       "mean_score_time                    0.00148306                   0.0012413   \n",
       "std_score_time                    0.000235478                 1.99319e-05   \n",
       "param_C                                     1                          10   \n",
       "param_penalty                              l1                          l2   \n",
       "params              {'C': 1, 'penalty': 'l1'}  {'C': 10, 'penalty': 'l2'}   \n",
       "split0_test_score                    0.992776                    0.998452   \n",
       "split1_test_score                    0.998968                    0.996904   \n",
       "split2_test_score                    0.975748                    0.975232   \n",
       "split3_test_score                           1                    0.985036   \n",
       "split4_test_score                           1                           1   \n",
       "mean_test_score                      0.993498                    0.991125   \n",
       "std_test_score                     0.00927416                  0.00954467   \n",
       "rank_test_score                             2                           4   \n",
       "split0_train_score                   0.996904                    0.999162   \n",
       "split1_train_score                   0.997452                    0.998549   \n",
       "split2_train_score                   0.999549                    0.999968   \n",
       "split3_train_score                    0.99713                    0.998742   \n",
       "split4_train_score                   0.996324                    0.997968   \n",
       "mean_train_score                     0.997472                    0.998878   \n",
       "std_train_score                     0.0011019                 0.000666689   \n",
       "\n",
       "                                             4                            0  \\\n",
       "mean_fit_time                         0.719033                     0.282084   \n",
       "std_fit_time                         0.0872182                      0.14032   \n",
       "mean_score_time                     0.00123935                   0.00186939   \n",
       "std_score_time                     0.000224686                  0.000234346   \n",
       "param_C                                     10                          0.1   \n",
       "param_penalty                               l1                           l1   \n",
       "params              {'C': 10, 'penalty': 'l1'}  {'C': 0.1, 'penalty': 'l1'}   \n",
       "split0_test_score                     0.996388                     0.979876   \n",
       "split1_test_score                     0.996388                     0.999484   \n",
       "split2_test_score                     0.975748                     0.967492   \n",
       "split3_test_score                     0.980392                     0.998968   \n",
       "split4_test_score                            1                            1   \n",
       "mean_test_score                       0.989783                     0.989164   \n",
       "std_test_score                      0.00976528                    0.0132361   \n",
       "rank_test_score                              5                            6   \n",
       "split0_train_score                    0.999613                     0.995356   \n",
       "split1_train_score                    0.999194                     0.992905   \n",
       "split2_train_score                    0.999968                     0.995872   \n",
       "split3_train_score                    0.999194                      0.99326   \n",
       "split4_train_score                    0.998259                     0.992647   \n",
       "mean_train_score                      0.999245                     0.994008   \n",
       "std_train_score                    0.000572049                   0.00133568   \n",
       "\n",
       "                                              7                             9  \\\n",
       "mean_fit_time                          0.733404                      0.645375   \n",
       "std_fit_time                          0.0993159                     0.0560117   \n",
       "mean_score_time                      0.00127044                   0.000923061   \n",
       "std_score_time                      1.90792e-05                   6.93257e-05   \n",
       "param_C                                     100                          1000   \n",
       "param_penalty                                l2                            l2   \n",
       "params              {'C': 100, 'penalty': 'l2'}  {'C': 1000, 'penalty': 'l2'}   \n",
       "split0_test_score                      0.995356                      0.995356   \n",
       "split1_test_score                      0.990712                       0.98968   \n",
       "split2_test_score                      0.975232                      0.975232   \n",
       "split3_test_score                      0.975748                      0.975232   \n",
       "split4_test_score                      0.999484                      0.999484   \n",
       "mean_test_score                        0.987307                      0.986997   \n",
       "std_test_score                        0.0100406                     0.0100977   \n",
       "rank_test_score                               7                             8   \n",
       "split0_train_score                     0.999807                      0.999936   \n",
       "split1_train_score                     0.999549                      0.999645   \n",
       "split2_train_score                            1                             1   \n",
       "split3_train_score                     0.999613                      0.999645   \n",
       "split4_train_score                     0.998742                      0.998936   \n",
       "mean_train_score                       0.999542                      0.999632   \n",
       "std_train_score                     0.000429975                   0.000377529   \n",
       "\n",
       "                                              6                             8  \n",
       "mean_fit_time                             1.049                      0.940879  \n",
       "std_fit_time                           0.122111                     0.0896352  \n",
       "mean_score_time                      0.00130119                   0.000888968  \n",
       "std_score_time                      8.72251e-05                    5.9265e-05  \n",
       "param_C                                     100                          1000  \n",
       "param_penalty                                l1                            l1  \n",
       "params              {'C': 100, 'penalty': 'l1'}  {'C': 1000, 'penalty': 'l1'}  \n",
       "split0_test_score                      0.995356                      0.995356  \n",
       "split1_test_score                       0.98968                       0.98968  \n",
       "split2_test_score                      0.974716                      0.974716  \n",
       "split3_test_score                      0.975232                      0.974716  \n",
       "split4_test_score                      0.999484                      0.999484  \n",
       "mean_test_score                        0.986894                      0.986791  \n",
       "std_test_score                        0.0102193                     0.0103385  \n",
       "rank_test_score                               9                            10  \n",
       "split0_train_score                     0.999871                      0.999936  \n",
       "split1_train_score                     0.999645                      0.999645  \n",
       "split2_train_score                            1                             1  \n",
       "split3_train_score                     0.999645                      0.999645  \n",
       "split4_train_score                     0.998904                      0.998936  \n",
       "mean_train_score                       0.999613                      0.999632  \n",
       "std_train_score                     0.000379945                   0.000377529  "
      ]
     },
     "execution_count": 283,
     "metadata": {},
     "output_type": "execute_result"
    }
   ],
   "source": [
    "pd.DataFrame(clf.cv_results_).sort_values('mean_test_score', ascending=False).T"
   ]
  },
  {
   "cell_type": "code",
   "execution_count": 284,
   "metadata": {},
   "outputs": [
    {
     "name": "stdout",
     "output_type": "stream",
     "text": [
      "best parameters  are:  {'C': 1, 'penalty': 'l2'}\n"
     ]
    }
   ],
   "source": [
    "print(\"best parameters  are: \", clf.best_params_)"
   ]
  },
  {
   "cell_type": "code",
   "execution_count": 285,
   "metadata": {},
   "outputs": [],
   "source": [
    "lr = clf.best_estimator_\n",
    "cv_fivefold = cross_validate(estimator = lr, \n",
    "                             X=X_train_scaled,\n",
    "                             y=y_train,\n",
    "                             cv =5, \n",
    "                             return_train_score= True,\n",
    "                             return_estimator= True )"
   ]
  },
  {
   "cell_type": "code",
   "execution_count": 168,
   "metadata": {},
   "outputs": [
    {
     "name": "stdout",
     "output_type": "stream",
     "text": [
      "best regularized test score: 0.978  +/- 0.016\n"
     ]
    }
   ],
   "source": [
    "test_mean = cv_fivefold['test_score'].mean()\n",
    "\n",
    "test_std = cv_fivefold['test_score'].std()\n",
    "\n",
    "\n",
    "print('best regularized test score: %.3f  +/- %.3f'%(test_mean, test_std))"
   ]
  },
  {
   "cell_type": "code",
   "execution_count": 169,
   "metadata": {},
   "outputs": [],
   "source": [
    "lr.fit(X_train_scaled, y_train)\n",
    "y_pred = lr.predict(X_train_scaled)\n",
    "score = lr.score(X_train_scaled, y_train)\n",
    "cm = confusion_matrix(y_train, y_pred)"
   ]
  },
  {
   "cell_type": "code",
   "execution_count": 170,
   "metadata": {},
   "outputs": [
    {
     "data": {
      "image/png": "[encoded data removed]",
      "text/plain": [
       "<Figure size 648x648 with 2 Axes>"
      ]
     },
     "metadata": {
      "needs_background": "light"
     },
     "output_type": "display_data"
    }
   ],
   "source": [
    "plt.figure(figsize=(9,9))\n",
    "sns.heatmap(cm, annot=True, fmt=\".3f\", linewidths=.5, square = True, cmap = 'Pastel1');\n",
    "plt.ylabel('Actual label');\n",
    "plt.xlabel('Predicted label');\n",
    "all_sample_title = 'Accuracy Score: {0}'.format(score)\n",
    "plt.title(all_sample_title, size = 15);\n",
    "plt.savefig('logs/regularized_log_reg.png')\n",
    "plt.draw()"
   ]
  },
  {
   "cell_type": "markdown",
   "metadata": {},
   "source": [
    "# Tree Based Models"
   ]
  },
  {
   "cell_type": "markdown",
   "metadata": {},
   "source": [
    "## Decision Trees"
   ]
  },
  {
   "cell_type": "code",
   "execution_count": 173,
   "metadata": {},
   "outputs": [],
   "source": [
    "from sklearn.tree import DecisionTreeClassifier"
   ]
  },
  {
   "cell_type": "code",
   "execution_count": 180,
   "metadata": {},
   "outputs": [],
   "source": [
    "dt_clf = DecisionTreeClassifier(criterion= 'gini', max_depth= 3)"
   ]
  },
  {
   "cell_type": "code",
   "execution_count": 181,
   "metadata": {},
   "outputs": [],
   "source": [
    "from sklearn.model_selection import cross_validate"
   ]
  },
  {
   "cell_type": "code",
   "execution_count": 287,
   "metadata": {},
   "outputs": [],
   "source": [
    "cv_fivefold = cross_validate(estimator = dt_clf, X=X_train, y=y_train, cv =5, return_train_score= True, return_estimator= True )"
   ]
  },
  {
   "cell_type": "code",
   "execution_count": 279,
   "metadata": {},
   "outputs": [
    {
     "data": {
      "text/plain": [
       "{'fit_time': array([0.00575471, 0.00526094, 0.00503206, 0.00528193, 0.00514579]),\n",
       " 'score_time': array([0.00341511, 0.00278401, 0.00297594, 0.00275922, 0.00260711]),\n",
       " 'estimator': (DecisionTreeClassifier(max_depth=3),\n",
       "  DecisionTreeClassifier(max_depth=3),\n",
       "  DecisionTreeClassifier(max_depth=3),\n",
       "  DecisionTreeClassifier(max_depth=3),\n",
       "  DecisionTreeClassifier(max_depth=3)),\n",
       " 'test_score': array([0.95201238, 0.96517028, 0.89112487, 0.93885449, 0.98606811]),\n",
       " 'train_score': array([0.99582366, 0.98127902, 0.99340493, 0.9780863 , 0.98869647])}"
      ]
     },
     "execution_count": 279,
     "metadata": {},
     "output_type": "execute_result"
    }
   ],
   "source": [
    "cv_fivefold"
   ]
  },
  {
   "cell_type": "code",
   "execution_count": 280,
   "metadata": {},
   "outputs": [
    {
     "name": "stdout",
     "output_type": "stream",
     "text": [
      "best decision tree test score: 0.947  +/- 0.032\n"
     ]
    }
   ],
   "source": [
    "test_mean = cv_fivefold['test_score'].mean()\n",
    "\n",
    "test_std = cv_fivefold['test_score'].std()\n",
    "\n",
    "\n",
    "print('best decision tree test score: %.3f  +/- %.3f'%(test_mean, test_std))"
   ]
  },
  {
   "cell_type": "code",
   "execution_count": 185,
   "metadata": {},
   "outputs": [],
   "source": [
    "dt_clf.fit(X_train, y_train)\n",
    "y_pred = dt_clf.predict(X_train)\n",
    "score = dt_clf.score(X_train, y_train)\n",
    "cm = confusion_matrix(y_train, y_pred)"
   ]
  },
  {
   "cell_type": "code",
   "execution_count": 186,
   "metadata": {},
   "outputs": [
    {
     "data": {
      "image/png": "[encoded data removed]",
      "text/plain": [
       "<Figure size 648x648 with 2 Axes>"
      ]
     },
     "metadata": {
      "needs_background": "light"
     },
     "output_type": "display_data"
    }
   ],
   "source": [
    "plt.figure(figsize=(9,9))\n",
    "sns.heatmap(cm, annot=True, fmt=\".3f\", linewidths=.5, square = True, cmap = 'Pastel1');\n",
    "plt.ylabel('Actual label');\n",
    "plt.xlabel('Predicted label');\n",
    "all_sample_title = 'Accuracy Score: {0}'.format(score)\n",
    "plt.title(all_sample_title, size = 15);\n",
    "plt.savefig('logs/decision_tree_3depth.png')\n",
    "plt.draw()"
   ]
  },
  {
   "cell_type": "markdown",
   "metadata": {},
   "source": [
    "## Random Forests"
   ]
  },
  {
   "cell_type": "markdown",
   "metadata": {},
   "source": [
    "### Bootstrapping\n",
    "\n",
    "<img src= \"images/bootstrap1.png\" style=\"height:450px\">\n"
   ]
  },
  {
   "cell_type": "markdown",
   "metadata": {},
   "source": [
    "### Bagging: Bootstrap Aggregation\n",
    "\n",
    "\n",
    "__Core idea__\n",
    "\n",
    "- Decision trees have high variance.\n",
    "\n",
    "- We know averaging can reduce the variance. (Central Limit Theorem?)\n",
    "\n",
    "- Why bootstrap though?\n",
    "\n",
    "    - Averaging the same numbers yields the same number: [2,2,2,2]  --> avg: 2\n",
    "    \n",
    "    - You want each tree to learn a little bit differently so that averaging make sense.\n",
    "\n",
    "__A little bit more details__\n"
   ]
  },
  {
   "cell_type": "markdown",
   "metadata": {},
   "source": [
    "We will use this idea calculate $$ \\hat{f}^{1}(x), \\cdots, \\hat{f}^{B}(x)$$ where each $\\hat{f}^{i}$ represents a decision tree fitted to the bootstrapped data.\n",
    "\n",
    "Then we will make a prediction by: \n",
    "\n",
    "$$ \\hat{f}_{\\text{avg}}(x) = \\frac{1}{B}\\sum_{b=1}^{B} \\hat{f}^{b}(x)$$\n",
    "\n",
    "Note that this is for regression and for the classification we can get majority vote.\n",
    "\n",
    "[sklearn averages over probabilities not majority vote](https://scikit-learn.org/stable/modules/ensemble.html#forest)\n"
   ]
  },
  {
   "cell_type": "markdown",
   "metadata": {},
   "source": [
    "__Problem__ We still have some problem with this approach and random forests will address this problem. Can you see the issue?\n",
    "\n",
    "- If we have a strong predictor then this will dominate in each tree.\n",
    "\n",
    "Hint: Correlated trees\n",
    "\n",
    "- Random forests adds some randomness into the procedure to make each tree uncorrolated."
   ]
  },
  {
   "cell_type": "markdown",
   "metadata": {},
   "source": [
    "### Implementation of Random Forest"
   ]
  },
  {
   "cell_type": "code",
   "execution_count": 218,
   "metadata": {},
   "outputs": [],
   "source": [
    "from sklearn.ensemble import RandomForestClassifier"
   ]
  },
  {
   "cell_type": "code",
   "execution_count": 258,
   "metadata": {},
   "outputs": [],
   "source": [
    "rf = RandomForestClassifier(n_estimators= 300, min_impurity_decrease= 0.001 ,random_state= 2, oob_score= True, n_jobs= -1)"
   ]
  },
  {
   "cell_type": "code",
   "execution_count": 259,
   "metadata": {},
   "outputs": [
    {
     "data": {
      "text/plain": [
       "RandomForestClassifier(min_impurity_decrease=0.001, n_estimators=300, n_jobs=-1,\n",
       "                       oob_score=True, random_state=2)"
      ]
     },
     "execution_count": 259,
     "metadata": {},
     "output_type": "execute_result"
    }
   ],
   "source": [
    "rf.fit(X_train, y_train)"
   ]
  },
  {
   "cell_type": "code",
   "execution_count": 260,
   "metadata": {},
   "outputs": [
    {
     "data": {
      "text/plain": [
       "0.9648351648351648"
      ]
     },
     "execution_count": 260,
     "metadata": {},
     "output_type": "execute_result"
    }
   ],
   "source": [
    "rf.oob_score_"
   ]
  },
  {
   "cell_type": "code",
   "execution_count": 261,
   "metadata": {},
   "outputs": [],
   "source": [
    "rf.fit(X_train, y_train)\n",
    "y_pred = rf.predict(X_train)\n",
    "score = rf.score(X_train, y_train)\n",
    "cm = confusion_matrix(y_train, y_pred)"
   ]
  },
  {
   "cell_type": "code",
   "execution_count": 262,
   "metadata": {},
   "outputs": [
    {
     "data": {
      "image/png": "[encoded data removed]",
      "text/plain": [
       "<Figure size 648x648 with 2 Axes>"
      ]
     },
     "metadata": {
      "needs_background": "light"
     },
     "output_type": "display_data"
    }
   ],
   "source": [
    "plt.figure(figsize=(9,9))\n",
    "sns.heatmap(cm, annot=True, fmt=\".3f\", linewidths=.5, square = True, cmap = 'Pastel1');\n",
    "plt.ylabel('Actual label');\n",
    "plt.xlabel('Predicted label');\n",
    "all_sample_title = 'Accuracy Score: {0}'.format(score)\n",
    "plt.title(all_sample_title, size = 15);\n",
    "plt.savefig('logs/random_forest.png')\n",
    "plt.draw()"
   ]
  },
  {
   "cell_type": "code",
   "execution_count": 270,
   "metadata": {},
   "outputs": [],
   "source": []
  },
  {
   "cell_type": "code",
   "execution_count": 274,
   "metadata": {},
   "outputs": [
    {
     "data": {
      "image/png": "[encoded data removed]",
      "text/plain": [
       "<Figure size 432x288 with 1 Axes>"
      ]
     },
     "metadata": {
      "needs_background": "light"
     },
     "output_type": "display_data"
    }
   ],
   "source": [
    "import matplotlib.pyplot as plt  # doctest: +SKIP\n",
    "from sklearn import datasets, metrics, model_selection, svm\n",
    "\n",
    "rf.fit(X_train, y_train)\n",
    "\n",
    "rfc_disp = metrics.plot_roc_curve(rf, X_test, y_test)  # doctest: +SKIP\n",
    "log_disp = metrics.plot_roc_curve(lr, X_test_scaled, y_test, ax = rfc_disp.ax_)  # doctest: +SKIP\n",
    "dct_disp = metrics.plot_roc_curve(dt_clf, X_test, y_test, ax = rfc_disp.ax_)  # doctest: +SKIP\n",
    "\n",
    "rfc_disp.figure_.suptitle(\"ROC curve comparison\")\n",
    "plt.show()  "
   ]
  },
  {
   "cell_type": "markdown",
   "metadata": {},
   "source": [
    "### Extra Material \n",
    "\n",
    "- [Sklearn averages probabilities in RF implementation](https://scikit-learn.org/stable/modules/ensemble.html#forest)\n",
    "\n",
    "- [On the variance](https://newonlinecourses.science.psu.edu/stat414/node/167/)\n",
    "\n",
    "- [Do RF immune to overfitting?](https://en.wikipedia.org/wiki/Talk%3ARandom_forest)\n",
    "\n",
    "- [Tricky stuff with respect to feature importance](http://rnowling.github.io/machine/learning/2015/08/10/random-forest-bias.html)\n",
    "\n",
    "- [An interesting implementation of feature importance](https://scikit-learn.org/stable/auto_examples/ensemble/plot_forest_importances_faces.html#sphx-glr-auto-examples-ensemble-plot-forest-importances-faces-py)\n",
    "\n",
    "- [Different Ensemble Methods in sklearn](https://scikit-learn.org/stable/modules/ensemble.html#forest)\n",
    "\n",
    "- [ISLR - section 8.2](http://faculty.marshall.usc.edu/gareth-james/ISL/ISLR%20Seventh%20Printing.pdf)\n",
    "\n",
    "- [Another library for RF: H2o](http://docs.h2o.ai/h2o/latest-stable/h2o-docs/data-science/drf.html)"
   ]
  }
 ],
 "metadata": {
  "kernelspec": {
   "display_name": "Python 3",
   "language": "python",
   "name": "python3"
  },
  "language_info": {
   "codemirror_mode": {
    "name": "ipython",
    "version": 3
   },
   "file_extension": ".py",
   "mimetype": "text/x-python",
   "name": "python",
   "nbconvert_exporter": "python",
   "pygments_lexer": "ipython3",
   "version": "3.8.3"
  },
  "toc": {
   "base_numbering": 1,
   "nav_menu": {},
   "number_sections": true,
   "sideBar": true,
   "skip_h1_title": false,
   "title_cell": "Table of Contents",
   "title_sidebar": "Contents",
   "toc_cell": false,
   "toc_position": {},
   "toc_section_display": true,
   "toc_window_display": false
  }
 },
 "nbformat": 4,
 "nbformat_minor": 4
}
